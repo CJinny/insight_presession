{
 "cells": [
  {
   "cell_type": "code",
   "execution_count": 1,
   "metadata": {
    "collapsed": true
   },
   "outputs": [
    {
     "name": "stderr",
     "output_type": "stream",
     "text": [
      "/usr/local/lib/python3.7/site-packages/lightgbm/__init__.py:46: UserWarning: Starting from version 2.2.1, the library file in distribution wheels for macOS is built by the Apple Clang (Xcode_8.3.3) compiler.\n",
      "This means that in case of installing LightGBM from PyPI via the ``pip install lightgbm`` command, you don't need to install the gcc compiler anymore.\n",
      "Instead of that, you need to install the OpenMP library, which is required for running LightGBM on the system with the Apple Clang compiler.\n",
      "You can install the OpenMP library by the following command: ``brew install libomp``.\n",
      "  \"You can install the OpenMP library by the following command: ``brew install libomp``.\", UserWarning)\n"
     ]
    }
   ],
   "source": [
    "import numpy as np\n",
    "import pandas as pd\n",
    "pd.set_option('display.max_columns', 25)\n",
    "import seaborn as sns\n",
    "import matplotlib.pyplot as plt\n",
    "import lightgbm as lgb\n",
    "from sklearn.model_selection import StratifiedKFold, KFold\n",
    "from sklearn.metrics import f1_score, accuracy_score, precision_score, recall_score, auc, roc_auc_score, cohen_kappa_score, confusion_matrix\n",
    "from sklearn.metrics import fbeta_score\n",
    "from sklearn.preprocessing import MinMaxScaler, StandardScaler\n",
    "import warnings\n",
    "warnings.filterwarnings(\"ignore\")\n",
    "from tqdm import tqdm_notebook\n",
    "import time\n",
    "import gc"
   ]
  },
  {
   "cell_type": "code",
   "execution_count": 92,
   "metadata": {},
   "outputs": [
    {
     "data": {
      "text/html": [
       "<div>\n",
       "<style scoped>\n",
       "    .dataframe tbody tr th:only-of-type {\n",
       "        vertical-align: middle;\n",
       "    }\n",
       "\n",
       "    .dataframe tbody tr th {\n",
       "        vertical-align: top;\n",
       "    }\n",
       "\n",
       "    .dataframe thead th {\n",
       "        text-align: right;\n",
       "    }\n",
       "</style>\n",
       "<table border=\"1\" class=\"dataframe\">\n",
       "  <thead>\n",
       "    <tr style=\"text-align: right;\">\n",
       "      <th></th>\n",
       "      <th>country</th>\n",
       "      <th>age</th>\n",
       "      <th>new_user</th>\n",
       "      <th>source</th>\n",
       "      <th>total_pages_visited</th>\n",
       "      <th>converted</th>\n",
       "    </tr>\n",
       "  </thead>\n",
       "  <tbody>\n",
       "    <tr>\n",
       "      <th>0</th>\n",
       "      <td>UK</td>\n",
       "      <td>25</td>\n",
       "      <td>1</td>\n",
       "      <td>Ads</td>\n",
       "      <td>1</td>\n",
       "      <td>0</td>\n",
       "    </tr>\n",
       "    <tr>\n",
       "      <th>1</th>\n",
       "      <td>US</td>\n",
       "      <td>23</td>\n",
       "      <td>1</td>\n",
       "      <td>Seo</td>\n",
       "      <td>5</td>\n",
       "      <td>0</td>\n",
       "    </tr>\n",
       "    <tr>\n",
       "      <th>2</th>\n",
       "      <td>US</td>\n",
       "      <td>28</td>\n",
       "      <td>1</td>\n",
       "      <td>Seo</td>\n",
       "      <td>4</td>\n",
       "      <td>0</td>\n",
       "    </tr>\n",
       "    <tr>\n",
       "      <th>3</th>\n",
       "      <td>China</td>\n",
       "      <td>39</td>\n",
       "      <td>1</td>\n",
       "      <td>Seo</td>\n",
       "      <td>5</td>\n",
       "      <td>0</td>\n",
       "    </tr>\n",
       "    <tr>\n",
       "      <th>4</th>\n",
       "      <td>US</td>\n",
       "      <td>30</td>\n",
       "      <td>1</td>\n",
       "      <td>Seo</td>\n",
       "      <td>6</td>\n",
       "      <td>0</td>\n",
       "    </tr>\n",
       "  </tbody>\n",
       "</table>\n",
       "</div>"
      ],
      "text/plain": [
       "  country  age  new_user source  total_pages_visited  converted\n",
       "0      UK   25         1    Ads                    1          0\n",
       "1      US   23         1    Seo                    5          0\n",
       "2      US   28         1    Seo                    4          0\n",
       "3   China   39         1    Seo                    5          0\n",
       "4      US   30         1    Seo                    6          0"
      ]
     },
     "execution_count": 92,
     "metadata": {},
     "output_type": "execute_result"
    }
   ],
   "source": [
    "data = pd.read_csv('conversion_data.csv')\n",
    "data.head()"
   ]
  },
  {
   "cell_type": "code",
   "execution_count": 2,
   "metadata": {},
   "outputs": [
    {
     "data": {
      "text/html": [
       "<div>\n",
       "<style scoped>\n",
       "    .dataframe tbody tr th:only-of-type {\n",
       "        vertical-align: middle;\n",
       "    }\n",
       "\n",
       "    .dataframe tbody tr th {\n",
       "        vertical-align: top;\n",
       "    }\n",
       "\n",
       "    .dataframe thead th {\n",
       "        text-align: right;\n",
       "    }\n",
       "</style>\n",
       "<table border=\"1\" class=\"dataframe\">\n",
       "  <thead>\n",
       "    <tr style=\"text-align: right;\">\n",
       "      <th></th>\n",
       "      <th>country</th>\n",
       "      <th>age</th>\n",
       "      <th>new_user</th>\n",
       "      <th>source</th>\n",
       "      <th>total_pages_visited</th>\n",
       "      <th>converted</th>\n",
       "    </tr>\n",
       "  </thead>\n",
       "  <tbody>\n",
       "    <tr>\n",
       "      <th>0</th>\n",
       "      <td>2</td>\n",
       "      <td>25</td>\n",
       "      <td>1</td>\n",
       "      <td>0</td>\n",
       "      <td>1</td>\n",
       "      <td>0</td>\n",
       "    </tr>\n",
       "    <tr>\n",
       "      <th>1</th>\n",
       "      <td>3</td>\n",
       "      <td>23</td>\n",
       "      <td>1</td>\n",
       "      <td>2</td>\n",
       "      <td>5</td>\n",
       "      <td>0</td>\n",
       "    </tr>\n",
       "    <tr>\n",
       "      <th>2</th>\n",
       "      <td>3</td>\n",
       "      <td>28</td>\n",
       "      <td>1</td>\n",
       "      <td>2</td>\n",
       "      <td>4</td>\n",
       "      <td>0</td>\n",
       "    </tr>\n",
       "    <tr>\n",
       "      <th>3</th>\n",
       "      <td>0</td>\n",
       "      <td>39</td>\n",
       "      <td>1</td>\n",
       "      <td>2</td>\n",
       "      <td>5</td>\n",
       "      <td>0</td>\n",
       "    </tr>\n",
       "    <tr>\n",
       "      <th>4</th>\n",
       "      <td>3</td>\n",
       "      <td>30</td>\n",
       "      <td>1</td>\n",
       "      <td>2</td>\n",
       "      <td>6</td>\n",
       "      <td>0</td>\n",
       "    </tr>\n",
       "  </tbody>\n",
       "</table>\n",
       "</div>"
      ],
      "text/plain": [
       "   country  age  new_user  source  total_pages_visited  converted\n",
       "0        2   25         1       0                    1          0\n",
       "1        3   23         1       2                    5          0\n",
       "2        3   28         1       2                    4          0\n",
       "3        0   39         1       2                    5          0\n",
       "4        3   30         1       2                    6          0"
      ]
     },
     "execution_count": 2,
     "metadata": {},
     "output_type": "execute_result"
    }
   ],
   "source": [
    "def str_encode(data, encoder_dict=None):\n",
    "    '''\n",
    "    convert string variables to int, no one-hot-encode\n",
    "    If used first time, initiate encoder_dict, else user can specify encoder_dict\n",
    "    '''\n",
    "    res = data.copy()\n",
    "    if encoder_dict is None:\n",
    "        encoder_dict = {}\n",
    "        for col in data.columns:\n",
    "            if data[col].dtype == 'object': #if typeof(col) == 'object'\n",
    "                str_dict = dict(zip(np.unique(data[col]), range(len(np.unique(data[col])))))\n",
    "                res[col] = data[col].map(str_dict)\n",
    "                encoder_dict[col] = str_dict\n",
    "        return res, encoder_dict\n",
    "    else:\n",
    "        for col in data.columns:\n",
    "            if data[col].dtype == 'object':\n",
    "                str_dict = encoder_dict[col]\n",
    "                res[col] = data[col].map(str_dict)\n",
    "        return res\n",
    "\n",
    "def str_onehotencode(data, encoder_dict=None):\n",
    "    '''convert string variables to one-hot-encode'''\n",
    "    res = data.copy()\n",
    "    encoder_dict = None\n",
    "    if encoder_dict is None:\n",
    "        encoder_dict = {}\n",
    "        for col in data.columns:\n",
    "            if data[col].dtype == 'object':\n",
    "                str_dict = dict(zip(np.unique(data[col]), range(len(np.unique(data[col])))))\n",
    "                for i in list(str_dict.keys()):\n",
    "                    res[f'{col}_{str_dict[i]}'] = (data[col] == i).astype(int)\n",
    "                encoder_dict[col] = str_dict\n",
    "                res = res.drop([col],1)\n",
    "        return res, encoder_dict\n",
    "    else:\n",
    "        for col in data.columns:\n",
    "            if data[col].dtype == 'object':\n",
    "                str_dict = encoder_dict[col]\n",
    "                for i in list(str_dict.keys()):\n",
    "                    res[f'{col}_{str_dict[i]}'] = (data[col] == i).astype(int)\n",
    "                res = res.drop([col],1)\n",
    "        return res\n",
    "        \n",
    "df_e, encoder_dict = str_encode(data)\n",
    "df_e.head()"
   ]
  },
  {
   "cell_type": "code",
   "execution_count": 3,
   "metadata": {},
   "outputs": [
    {
     "data": {
      "text/html": [
       "<div>\n",
       "<style scoped>\n",
       "    .dataframe tbody tr th:only-of-type {\n",
       "        vertical-align: middle;\n",
       "    }\n",
       "\n",
       "    .dataframe tbody tr th {\n",
       "        vertical-align: top;\n",
       "    }\n",
       "\n",
       "    .dataframe thead th {\n",
       "        text-align: right;\n",
       "    }\n",
       "</style>\n",
       "<table border=\"1\" class=\"dataframe\">\n",
       "  <thead>\n",
       "    <tr style=\"text-align: right;\">\n",
       "      <th></th>\n",
       "      <th>age</th>\n",
       "      <th>new_user</th>\n",
       "      <th>total_pages_visited</th>\n",
       "      <th>converted</th>\n",
       "      <th>country_0</th>\n",
       "      <th>country_1</th>\n",
       "      <th>country_2</th>\n",
       "      <th>country_3</th>\n",
       "      <th>source_0</th>\n",
       "      <th>source_1</th>\n",
       "      <th>source_2</th>\n",
       "    </tr>\n",
       "  </thead>\n",
       "  <tbody>\n",
       "    <tr>\n",
       "      <th>0</th>\n",
       "      <td>25</td>\n",
       "      <td>1</td>\n",
       "      <td>1</td>\n",
       "      <td>0</td>\n",
       "      <td>0</td>\n",
       "      <td>0</td>\n",
       "      <td>1</td>\n",
       "      <td>0</td>\n",
       "      <td>1</td>\n",
       "      <td>0</td>\n",
       "      <td>0</td>\n",
       "    </tr>\n",
       "    <tr>\n",
       "      <th>1</th>\n",
       "      <td>23</td>\n",
       "      <td>1</td>\n",
       "      <td>5</td>\n",
       "      <td>0</td>\n",
       "      <td>0</td>\n",
       "      <td>0</td>\n",
       "      <td>0</td>\n",
       "      <td>1</td>\n",
       "      <td>0</td>\n",
       "      <td>0</td>\n",
       "      <td>1</td>\n",
       "    </tr>\n",
       "    <tr>\n",
       "      <th>2</th>\n",
       "      <td>28</td>\n",
       "      <td>1</td>\n",
       "      <td>4</td>\n",
       "      <td>0</td>\n",
       "      <td>0</td>\n",
       "      <td>0</td>\n",
       "      <td>0</td>\n",
       "      <td>1</td>\n",
       "      <td>0</td>\n",
       "      <td>0</td>\n",
       "      <td>1</td>\n",
       "    </tr>\n",
       "    <tr>\n",
       "      <th>3</th>\n",
       "      <td>39</td>\n",
       "      <td>1</td>\n",
       "      <td>5</td>\n",
       "      <td>0</td>\n",
       "      <td>1</td>\n",
       "      <td>0</td>\n",
       "      <td>0</td>\n",
       "      <td>0</td>\n",
       "      <td>0</td>\n",
       "      <td>0</td>\n",
       "      <td>1</td>\n",
       "    </tr>\n",
       "    <tr>\n",
       "      <th>4</th>\n",
       "      <td>30</td>\n",
       "      <td>1</td>\n",
       "      <td>6</td>\n",
       "      <td>0</td>\n",
       "      <td>0</td>\n",
       "      <td>0</td>\n",
       "      <td>0</td>\n",
       "      <td>1</td>\n",
       "      <td>0</td>\n",
       "      <td>0</td>\n",
       "      <td>1</td>\n",
       "    </tr>\n",
       "  </tbody>\n",
       "</table>\n",
       "</div>"
      ],
      "text/plain": [
       "   age  new_user  total_pages_visited  converted  country_0  country_1  \\\n",
       "0   25         1                    1          0          0          0   \n",
       "1   23         1                    5          0          0          0   \n",
       "2   28         1                    4          0          0          0   \n",
       "3   39         1                    5          0          1          0   \n",
       "4   30         1                    6          0          0          0   \n",
       "\n",
       "   country_2  country_3  source_0  source_1  source_2  \n",
       "0          1          0         1         0         0  \n",
       "1          0          1         0         0         1  \n",
       "2          0          1         0         0         1  \n",
       "3          0          0         0         0         1  \n",
       "4          0          1         0         0         1  "
      ]
     },
     "execution_count": 3,
     "metadata": {},
     "output_type": "execute_result"
    }
   ],
   "source": [
    "df_ohe, encoder_dict = str_onehotencode(data)\n",
    "df_ohe.head()"
   ]
  },
  {
   "cell_type": "code",
   "execution_count": 93,
   "metadata": {},
   "outputs": [
    {
     "data": {
      "text/plain": [
       "{'country': {'China': 0, 'Germany': 1, 'UK': 2, 'US': 3},\n",
       " 'source': {'Ads': 0, 'Direct': 1, 'Seo': 2}}"
      ]
     },
     "execution_count": 93,
     "metadata": {},
     "output_type": "execute_result"
    }
   ],
   "source": [
    "encoder_dict"
   ]
  },
  {
   "cell_type": "markdown",
   "metadata": {},
   "source": [
    "## Co-linearity?\n",
    "    if you need to remove co-linear features"
   ]
  },
  {
   "cell_type": "code",
   "execution_count": 4,
   "metadata": {},
   "outputs": [
    {
     "data": {
      "text/plain": [
       "<matplotlib.axes._subplots.AxesSubplot at 0x129364668>"
      ]
     },
     "execution_count": 4,
     "metadata": {},
     "output_type": "execute_result"
    },
    {
     "data": {
      "image/png": "[encoded data removed]",
      "text/plain": [
       "<Figure size 792x648 with 2 Axes>"
      ]
     },
     "metadata": {
      "needs_background": "light"
     },
     "output_type": "display_data"
    }
   ],
   "source": [
    "corr = df_e.corr()\n",
    "mask = np.zeros_like(corr, dtype=np.bool)\n",
    "mask[np.triu_indices_from(mask)] = True\n",
    "f, ax = plt.subplots(figsize=(11, 9))\n",
    "cmap = sns.diverging_palette(220, 10, as_cmap=True)\n",
    "sns.heatmap(corr, mask=mask, cmap=cmap, vmax=.3, center=0, annot=True,\n",
    "            square=True, linewidths=.5, cbar_kws={\"shrink\": .5})"
   ]
  },
  {
   "cell_type": "markdown",
   "metadata": {},
   "source": [
    "## Pandas data aggregation\n",
    "    say you want to know what's the mean/min/max age, proportion of new users, proportion of source, mean/min/max total_pages_visited, mean converted of users from different country"
   ]
  },
  {
   "cell_type": "code",
   "execution_count": 139,
   "metadata": {},
   "outputs": [
    {
     "data": {
      "text/html": [
       "<div>\n",
       "<style scoped>\n",
       "    .dataframe tbody tr th:only-of-type {\n",
       "        vertical-align: middle;\n",
       "    }\n",
       "\n",
       "    .dataframe tbody tr th {\n",
       "        vertical-align: top;\n",
       "    }\n",
       "\n",
       "    .dataframe thead th {\n",
       "        text-align: right;\n",
       "    }\n",
       "</style>\n",
       "<table border=\"1\" class=\"dataframe\">\n",
       "  <thead>\n",
       "    <tr style=\"text-align: right;\">\n",
       "      <th></th>\n",
       "      <th>country</th>\n",
       "      <th>age</th>\n",
       "      <th>new_user</th>\n",
       "      <th>source</th>\n",
       "      <th>total_pages_visited</th>\n",
       "      <th>converted</th>\n",
       "    </tr>\n",
       "  </thead>\n",
       "  <tbody>\n",
       "    <tr>\n",
       "      <th>0</th>\n",
       "      <td>2</td>\n",
       "      <td>25</td>\n",
       "      <td>1</td>\n",
       "      <td>0</td>\n",
       "      <td>1</td>\n",
       "      <td>0</td>\n",
       "    </tr>\n",
       "    <tr>\n",
       "      <th>1</th>\n",
       "      <td>3</td>\n",
       "      <td>23</td>\n",
       "      <td>1</td>\n",
       "      <td>2</td>\n",
       "      <td>5</td>\n",
       "      <td>0</td>\n",
       "    </tr>\n",
       "    <tr>\n",
       "      <th>2</th>\n",
       "      <td>3</td>\n",
       "      <td>28</td>\n",
       "      <td>1</td>\n",
       "      <td>2</td>\n",
       "      <td>4</td>\n",
       "      <td>0</td>\n",
       "    </tr>\n",
       "    <tr>\n",
       "      <th>3</th>\n",
       "      <td>0</td>\n",
       "      <td>39</td>\n",
       "      <td>1</td>\n",
       "      <td>2</td>\n",
       "      <td>5</td>\n",
       "      <td>0</td>\n",
       "    </tr>\n",
       "    <tr>\n",
       "      <th>4</th>\n",
       "      <td>3</td>\n",
       "      <td>30</td>\n",
       "      <td>1</td>\n",
       "      <td>2</td>\n",
       "      <td>6</td>\n",
       "      <td>0</td>\n",
       "    </tr>\n",
       "  </tbody>\n",
       "</table>\n",
       "</div>"
      ],
      "text/plain": [
       "   country  age  new_user  source  total_pages_visited  converted\n",
       "0        2   25         1       0                    1          0\n",
       "1        3   23         1       2                    5          0\n",
       "2        3   28         1       2                    4          0\n",
       "3        0   39         1       2                    5          0\n",
       "4        3   30         1       2                    6          0"
      ]
     },
     "execution_count": 139,
     "metadata": {},
     "output_type": "execute_result"
    }
   ],
   "source": [
    "df_e.head()"
   ]
  },
  {
   "cell_type": "code",
   "execution_count": 152,
   "metadata": {},
   "outputs": [
    {
     "data": {
      "text/html": [
       "<div>\n",
       "<style scoped>\n",
       "    .dataframe tbody tr th:only-of-type {\n",
       "        vertical-align: middle;\n",
       "    }\n",
       "\n",
       "    .dataframe tbody tr th {\n",
       "        vertical-align: top;\n",
       "    }\n",
       "\n",
       "    .dataframe thead tr th {\n",
       "        text-align: left;\n",
       "    }\n",
       "\n",
       "    .dataframe thead tr:last-of-type th {\n",
       "        text-align: right;\n",
       "    }\n",
       "</style>\n",
       "<table border=\"1\" class=\"dataframe\">\n",
       "  <thead>\n",
       "    <tr>\n",
       "      <th></th>\n",
       "      <th colspan=\"5\" halign=\"left\">age</th>\n",
       "      <th>new_user</th>\n",
       "      <th colspan=\"3\" halign=\"left\">source</th>\n",
       "      <th colspan=\"6\" halign=\"left\">total_pages_visited</th>\n",
       "      <th>converted</th>\n",
       "    </tr>\n",
       "    <tr>\n",
       "      <th></th>\n",
       "      <th>mean</th>\n",
       "      <th>min</th>\n",
       "      <th>max</th>\n",
       "      <th>std</th>\n",
       "      <th>Range</th>\n",
       "      <th>mean</th>\n",
       "      <th>ratio_of_zero</th>\n",
       "      <th>ratio_of_one</th>\n",
       "      <th>ratio_of_two</th>\n",
       "      <th>mean</th>\n",
       "      <th>min</th>\n",
       "      <th>max</th>\n",
       "      <th>std</th>\n",
       "      <th>Range</th>\n",
       "      <th>iqr</th>\n",
       "      <th>mean</th>\n",
       "    </tr>\n",
       "    <tr>\n",
       "      <th>country</th>\n",
       "      <th></th>\n",
       "      <th></th>\n",
       "      <th></th>\n",
       "      <th></th>\n",
       "      <th></th>\n",
       "      <th></th>\n",
       "      <th></th>\n",
       "      <th></th>\n",
       "      <th></th>\n",
       "      <th></th>\n",
       "      <th></th>\n",
       "      <th></th>\n",
       "      <th></th>\n",
       "      <th></th>\n",
       "      <th></th>\n",
       "      <th></th>\n",
       "    </tr>\n",
       "  </thead>\n",
       "  <tbody>\n",
       "    <tr>\n",
       "      <th>0</th>\n",
       "      <td>30.672972</td>\n",
       "      <td>17</td>\n",
       "      <td>69</td>\n",
       "      <td>8.283862</td>\n",
       "      <td>52</td>\n",
       "      <td>0.698520</td>\n",
       "      <td>0.281468</td>\n",
       "      <td>0.227971</td>\n",
       "      <td>0.490562</td>\n",
       "      <td>4.553523</td>\n",
       "      <td>1</td>\n",
       "      <td>26</td>\n",
       "      <td>2.804987</td>\n",
       "      <td>25</td>\n",
       "      <td>4</td>\n",
       "      <td>0.001332</td>\n",
       "    </tr>\n",
       "    <tr>\n",
       "      <th>1</th>\n",
       "      <td>30.449985</td>\n",
       "      <td>17</td>\n",
       "      <td>123</td>\n",
       "      <td>8.289022</td>\n",
       "      <td>106</td>\n",
       "      <td>0.677237</td>\n",
       "      <td>0.287990</td>\n",
       "      <td>0.219363</td>\n",
       "      <td>0.492647</td>\n",
       "      <td>5.190717</td>\n",
       "      <td>1</td>\n",
       "      <td>27</td>\n",
       "      <td>3.762899</td>\n",
       "      <td>26</td>\n",
       "      <td>5</td>\n",
       "      <td>0.062500</td>\n",
       "    </tr>\n",
       "    <tr>\n",
       "      <th>2</th>\n",
       "      <td>30.451538</td>\n",
       "      <td>17</td>\n",
       "      <td>111</td>\n",
       "      <td>8.244991</td>\n",
       "      <td>94</td>\n",
       "      <td>0.679835</td>\n",
       "      <td>0.279009</td>\n",
       "      <td>0.229742</td>\n",
       "      <td>0.491249</td>\n",
       "      <td>5.082167</td>\n",
       "      <td>1</td>\n",
       "      <td>27</td>\n",
       "      <td>3.630763</td>\n",
       "      <td>26</td>\n",
       "      <td>5</td>\n",
       "      <td>0.052632</td>\n",
       "    </tr>\n",
       "    <tr>\n",
       "      <th>3</th>\n",
       "      <td>30.566482</td>\n",
       "      <td>17</td>\n",
       "      <td>79</td>\n",
       "      <td>8.272128</td>\n",
       "      <td>62</td>\n",
       "      <td>0.681985</td>\n",
       "      <td>0.280198</td>\n",
       "      <td>0.230005</td>\n",
       "      <td>0.489797</td>\n",
       "      <td>4.930160</td>\n",
       "      <td>1</td>\n",
       "      <td>29</td>\n",
       "      <td>3.427085</td>\n",
       "      <td>28</td>\n",
       "      <td>5</td>\n",
       "      <td>0.037801</td>\n",
       "    </tr>\n",
       "  </tbody>\n",
       "</table>\n",
       "</div>"
      ],
      "text/plain": [
       "               age                           new_user        source  \\\n",
       "              mean min  max       std Range      mean ratio_of_zero   \n",
       "country                                                               \n",
       "0        30.672972  17   69  8.283862    52  0.698520      0.281468   \n",
       "1        30.449985  17  123  8.289022   106  0.677237      0.287990   \n",
       "2        30.451538  17  111  8.244991    94  0.679835      0.279009   \n",
       "3        30.566482  17   79  8.272128    62  0.681985      0.280198   \n",
       "\n",
       "                                  total_pages_visited                          \\\n",
       "        ratio_of_one ratio_of_two                mean min max       std Range   \n",
       "country                                                                         \n",
       "0           0.227971     0.490562            4.553523   1  26  2.804987    25   \n",
       "1           0.219363     0.492647            5.190717   1  27  3.762899    26   \n",
       "2           0.229742     0.491249            5.082167   1  27  3.630763    26   \n",
       "3           0.230005     0.489797            4.930160   1  29  3.427085    28   \n",
       "\n",
       "            converted  \n",
       "        iqr      mean  \n",
       "country                \n",
       "0         4  0.001332  \n",
       "1         5  0.062500  \n",
       "2         5  0.052632  \n",
       "3         5  0.037801  "
      ]
     },
     "execution_count": 152,
     "metadata": {},
     "output_type": "execute_result"
    }
   ],
   "source": [
    "def Range(x):\n",
    "    return np.max(x) - np.min(x)\n",
    "def ratio_of_zero(x):\n",
    "    return len(x[x==0])/len(x)\n",
    "def ratio_of_one(x):\n",
    "    return len(x[x==1])/len(x)\n",
    "def ratio_of_two(x):\n",
    "    return len(x[x==2])/len(x)\n",
    "def iqr(x):\n",
    "    return np.percentile(x,75) - np.percentile(x,25)\n",
    "\n",
    "agg_dict = {'age': ['mean','min','max',np.std, Range],\n",
    "            'new_user': ['mean'],\n",
    "            'source': [ratio_of_zero,ratio_of_one,ratio_of_two],\n",
    "            'total_pages_visited': ['mean','min','max',np.std, Range,iqr],\n",
    "            'converted':['mean']\n",
    "           }\n",
    "\n",
    "df_agg = df_e.groupby('country').agg(agg_dict)\n",
    "df_agg.head()"
   ]
  },
  {
   "cell_type": "code",
   "execution_count": 153,
   "metadata": {},
   "outputs": [
    {
     "data": {
      "text/html": [
       "<div>\n",
       "<style scoped>\n",
       "    .dataframe tbody tr th:only-of-type {\n",
       "        vertical-align: middle;\n",
       "    }\n",
       "\n",
       "    .dataframe tbody tr th {\n",
       "        vertical-align: top;\n",
       "    }\n",
       "\n",
       "    .dataframe thead th {\n",
       "        text-align: right;\n",
       "    }\n",
       "</style>\n",
       "<table border=\"1\" class=\"dataframe\">\n",
       "  <thead>\n",
       "    <tr style=\"text-align: right;\">\n",
       "      <th></th>\n",
       "      <th>age_mean</th>\n",
       "      <th>age_min</th>\n",
       "      <th>age_max</th>\n",
       "      <th>age_std</th>\n",
       "      <th>age_Range</th>\n",
       "      <th>new_user_mean</th>\n",
       "      <th>source_ratio_of_zero</th>\n",
       "      <th>source_ratio_of_one</th>\n",
       "      <th>source_ratio_of_two</th>\n",
       "      <th>total_pages_visited_mean</th>\n",
       "      <th>total_pages_visited_min</th>\n",
       "      <th>total_pages_visited_max</th>\n",
       "      <th>total_pages_visited_std</th>\n",
       "      <th>total_pages_visited_Range</th>\n",
       "      <th>total_pages_visited_iqr</th>\n",
       "      <th>converted_mean</th>\n",
       "    </tr>\n",
       "    <tr>\n",
       "      <th>country</th>\n",
       "      <th></th>\n",
       "      <th></th>\n",
       "      <th></th>\n",
       "      <th></th>\n",
       "      <th></th>\n",
       "      <th></th>\n",
       "      <th></th>\n",
       "      <th></th>\n",
       "      <th></th>\n",
       "      <th></th>\n",
       "      <th></th>\n",
       "      <th></th>\n",
       "      <th></th>\n",
       "      <th></th>\n",
       "      <th></th>\n",
       "      <th></th>\n",
       "    </tr>\n",
       "  </thead>\n",
       "  <tbody>\n",
       "    <tr>\n",
       "      <th>0</th>\n",
       "      <td>30.672972</td>\n",
       "      <td>17</td>\n",
       "      <td>69</td>\n",
       "      <td>8.283862</td>\n",
       "      <td>52</td>\n",
       "      <td>0.698520</td>\n",
       "      <td>0.281468</td>\n",
       "      <td>0.227971</td>\n",
       "      <td>0.490562</td>\n",
       "      <td>4.553523</td>\n",
       "      <td>1</td>\n",
       "      <td>26</td>\n",
       "      <td>2.804987</td>\n",
       "      <td>25</td>\n",
       "      <td>4</td>\n",
       "      <td>0.001332</td>\n",
       "    </tr>\n",
       "    <tr>\n",
       "      <th>1</th>\n",
       "      <td>30.449985</td>\n",
       "      <td>17</td>\n",
       "      <td>123</td>\n",
       "      <td>8.289022</td>\n",
       "      <td>106</td>\n",
       "      <td>0.677237</td>\n",
       "      <td>0.287990</td>\n",
       "      <td>0.219363</td>\n",
       "      <td>0.492647</td>\n",
       "      <td>5.190717</td>\n",
       "      <td>1</td>\n",
       "      <td>27</td>\n",
       "      <td>3.762899</td>\n",
       "      <td>26</td>\n",
       "      <td>5</td>\n",
       "      <td>0.062500</td>\n",
       "    </tr>\n",
       "    <tr>\n",
       "      <th>2</th>\n",
       "      <td>30.451538</td>\n",
       "      <td>17</td>\n",
       "      <td>111</td>\n",
       "      <td>8.244991</td>\n",
       "      <td>94</td>\n",
       "      <td>0.679835</td>\n",
       "      <td>0.279009</td>\n",
       "      <td>0.229742</td>\n",
       "      <td>0.491249</td>\n",
       "      <td>5.082167</td>\n",
       "      <td>1</td>\n",
       "      <td>27</td>\n",
       "      <td>3.630763</td>\n",
       "      <td>26</td>\n",
       "      <td>5</td>\n",
       "      <td>0.052632</td>\n",
       "    </tr>\n",
       "    <tr>\n",
       "      <th>3</th>\n",
       "      <td>30.566482</td>\n",
       "      <td>17</td>\n",
       "      <td>79</td>\n",
       "      <td>8.272128</td>\n",
       "      <td>62</td>\n",
       "      <td>0.681985</td>\n",
       "      <td>0.280198</td>\n",
       "      <td>0.230005</td>\n",
       "      <td>0.489797</td>\n",
       "      <td>4.930160</td>\n",
       "      <td>1</td>\n",
       "      <td>29</td>\n",
       "      <td>3.427085</td>\n",
       "      <td>28</td>\n",
       "      <td>5</td>\n",
       "      <td>0.037801</td>\n",
       "    </tr>\n",
       "  </tbody>\n",
       "</table>\n",
       "</div>"
      ],
      "text/plain": [
       "          age_mean  age_min  age_max   age_std  age_Range  new_user_mean  \\\n",
       "country                                                                    \n",
       "0        30.672972       17       69  8.283862         52       0.698520   \n",
       "1        30.449985       17      123  8.289022        106       0.677237   \n",
       "2        30.451538       17      111  8.244991         94       0.679835   \n",
       "3        30.566482       17       79  8.272128         62       0.681985   \n",
       "\n",
       "         source_ratio_of_zero  source_ratio_of_one  source_ratio_of_two  \\\n",
       "country                                                                   \n",
       "0                    0.281468             0.227971             0.490562   \n",
       "1                    0.287990             0.219363             0.492647   \n",
       "2                    0.279009             0.229742             0.491249   \n",
       "3                    0.280198             0.230005             0.489797   \n",
       "\n",
       "         total_pages_visited_mean  total_pages_visited_min  \\\n",
       "country                                                      \n",
       "0                        4.553523                        1   \n",
       "1                        5.190717                        1   \n",
       "2                        5.082167                        1   \n",
       "3                        4.930160                        1   \n",
       "\n",
       "         total_pages_visited_max  total_pages_visited_std  \\\n",
       "country                                                     \n",
       "0                             26                 2.804987   \n",
       "1                             27                 3.762899   \n",
       "2                             27                 3.630763   \n",
       "3                             29                 3.427085   \n",
       "\n",
       "         total_pages_visited_Range  total_pages_visited_iqr  converted_mean  \n",
       "country                                                                      \n",
       "0                               25                        4        0.001332  \n",
       "1                               26                        5        0.062500  \n",
       "2                               26                        5        0.052632  \n",
       "3                               28                        5        0.037801  "
      ]
     },
     "execution_count": 153,
     "metadata": {},
     "output_type": "execute_result"
    }
   ],
   "source": [
    "df_agg.columns = [\"_\".join(x) for x in df_agg.columns.ravel()] \n",
    "#df_agg = df_agg.reset_index()\n",
    "df_agg.head()"
   ]
  },
  {
   "cell_type": "markdown",
   "metadata": {},
   "source": [
    "## KFold pipeline\n",
    "    works for all sklearn models!"
   ]
  },
  {
   "cell_type": "code",
   "execution_count": 35,
   "metadata": {},
   "outputs": [],
   "source": [
    "from sklearn.ensemble import RandomForestClassifier, GradientBoostingClassifier, AdaBoostClassifier, ExtraTreesClassifier, BaggingClassifier\n",
    "from sklearn.svm import LinearSVC\n",
    "from sklearn.naive_bayes import GaussianNB\n",
    "from sklearn.linear_model import SGDClassifier, LogisticRegression, RidgeClassifier\n",
    "from sklearn.tree import DecisionTreeClassifier\n",
    "from sklearn.neighbors import KNeighborsClassifier\n",
    "from sklearn.neural_network import MLPClassifier\n",
    "from sklearn.discriminant_analysis import QuadraticDiscriminantAnalysis\n",
    "\n",
    "\n",
    "def KFold_sklearn(df, clf, n_splits=5, target='converted', name='RandomForestClassifier'):\n",
    "    #print('Number of features = {}'.format(df.shape[1]-1))\n",
    "    start_time = time.time()\n",
    "    folds = StratifiedKFold(n_splits=n_splits, shuffle=True, random_state=42)\n",
    "    oof = np.zeros(len(df))\n",
    "    for fold_, (trn_idx, val_idx) in enumerate(folds.split(df, df[target].round())):    \n",
    "                \n",
    "        x_trn, y_trn = df.drop([target],axis=1).iloc[trn_idx], df[target].iloc[trn_idx]\n",
    "        x_val, y_val = df.drop([target],axis=1).iloc[val_idx], df[target].iloc[val_idx]\n",
    "        \n",
    "        clf.fit(x_trn, y_trn)\n",
    "        preds = clf.predict(x_val)\n",
    "        oof[val_idx] = preds\n",
    "        \n",
    "        ACC = accuracy_score(df[target].iloc[val_idx], oof[val_idx]).round(3)\n",
    "        REC = recall_score(df[target].iloc[val_idx], oof[val_idx]).round(3)\n",
    "        PRE = precision_score(df[target].iloc[val_idx], oof[val_idx]).round(3)\n",
    "        AUC = roc_auc_score(df[target].iloc[val_idx], oof[val_idx]).round(3)\n",
    "        KAP = cohen_kappa_score(df[target].iloc[val_idx], oof[val_idx]).round(3)\n",
    "        F1  = f1_score(df[target].iloc[val_idx], oof[val_idx]).round(3)\n",
    "        #print(f'fold {fold_}: \\naccuracy score: {ACC}   recall: {REC}   precision: {PRE}   AUC: {AUC}    kappa: {KAP}   F1: {F1}')\n",
    "    \n",
    "    ACC = accuracy_score(df[target], oof).round(3)\n",
    "    REC = recall_score(df[target], oof).round(3)\n",
    "    PRE = precision_score(df[target], oof).round(3)\n",
    "    AUC = roc_auc_score(df[target], oof).round(3)\n",
    "    KAP = cohen_kappa_score(df[target], oof).round(3)\n",
    "    F1  = f1_score(df[target], oof).round(3)\n",
    "    \n",
    "    print(f'{ACC}\\t\\t{REC}\\t{PRE}\\t\\t{AUC}\\t{F1}\\t{round(time.time() - start_time,0)}\\t\\t{name}')\n",
    "    #print('Confusion matrix:')\n",
    "    #print(confusion_matrix(df[target], oof))\n",
    "    return oof\n"
   ]
  },
  {
   "cell_type": "code",
   "execution_count": 36,
   "metadata": {},
   "outputs": [
    {
     "data": {
      "text/plain": [
       "['MLPClassifier',\n",
       " 'AdaBoostClassifier',\n",
       " 'RandomForestClassifier',\n",
       " 'DecisionTreeClassifier',\n",
       " 'LogisticRegression',\n",
       " 'QuadraticDiscriminantAnalysis',\n",
       " 'GaussianNB',\n",
       " 'KNeighborsClassifier',\n",
       " 'BaggingClassifier',\n",
       " 'ExtraTreesClassifier',\n",
       " 'SGDClassifier',\n",
       " 'LinearSVC']"
      ]
     },
     "execution_count": 36,
     "metadata": {},
     "output_type": "execute_result"
    }
   ],
   "source": [
    "clf_list = [\n",
    "    MLPClassifier(**{'random_state':0}),\n",
    "    AdaBoostClassifier(**{'n_estimators':100,'random_state':0}),\n",
    "    RandomForestClassifier(**{'random_state':0, 'n_estimators':100, 'n_jobs':-1, 'max_depth':10}),\n",
    "    DecisionTreeClassifier(**{'random_state':0, 'max_depth':10}),\n",
    "    LogisticRegression(**{'random_state':0, 'C':2}),\n",
    "    QuadraticDiscriminantAnalysis(**{}),\n",
    "    GaussianNB(**{}),\n",
    "    KNeighborsClassifier(**{'n_jobs':-1}),\n",
    "    BaggingClassifier(**{'random_state':0, 'n_jobs':-1}),\n",
    "    ExtraTreesClassifier(**{'random_state':0, 'n_jobs':-1}),\n",
    "    SGDClassifier(**{'random_state':0, 'n_jobs':-1}),\n",
    "    LinearSVC(**{'random_state':0}),\n",
    "]\n",
    "\n",
    "name_list = [*map(lambda t:str(t.__class__).split('.')[-1].strip(\"'>\"), clf_list)]\n",
    "name_list"
   ]
  },
  {
   "cell_type": "code",
   "execution_count": 37,
   "metadata": {},
   "outputs": [],
   "source": [
    "### Scale\n",
    "scaler = StandardScaler()\n",
    "df_ohe_scaled = pd.DataFrame(scaler.fit_transform(df_ohe.drop(['converted'],1)))\n",
    "df_ohe_scaled['converted'] = df_ohe['converted']\n",
    "df_ohe_scaled.columns = df_ohe.columns\n",
    "df_ohe_scaled['converted'] = (df_ohe_scaled['converted']).astype(int)\n",
    "\n",
    "scaler = StandardScaler()\n",
    "df_e_scaled = pd.DataFrame(scaler.fit_transform(df_e.drop(['converted'],1)))\n",
    "df_e_scaled['converted'] = df_e['converted']\n",
    "df_e_scaled.columns = df_e.columns\n",
    "df_e_scaled['converted'] = (df_e_scaled['converted']).astype(int)\n"
   ]
  },
  {
   "cell_type": "code",
   "execution_count": 38,
   "metadata": {},
   "outputs": [
    {
     "name": "stdout",
     "output_type": "stream",
     "text": [
      "Accuracy\tRecall\tPrecision\tAUC\tF1\tTime(s)\t\tModel\n",
      "0.986\t\t0.662\t0.87\t\t0.829\t0.752\t158.0\t\tMLPClassifier\n",
      "0.986\t\t0.685\t0.853\t\t0.841\t0.76\t42.0\t\tAdaBoostClassifier\n",
      "0.986\t\t0.683\t0.845\t\t0.839\t0.756\t23.0\t\tRandomForestClassifier\n",
      "0.986\t\t0.679\t0.842\t\t0.837\t0.752\t4.0\t\tDecisionTreeClassifier\n",
      "0.986\t\t0.689\t0.855\t\t0.842\t0.763\t5.0\t\tLogisticRegression\n",
      "0.921\t\t0.806\t0.264\t\t0.866\t0.398\t3.0\t\tQuadraticDiscriminantAnalysis\n",
      "0.964\t\t0.845\t0.471\t\t0.907\t0.605\t3.0\t\tGaussianNB\n",
      "0.985\t\t0.669\t0.82\t\t0.832\t0.737\t27.0\t\tKNeighborsClassifier\n",
      "0.984\t\t0.669\t0.81\t\t0.832\t0.733\t23.0\t\tBaggingClassifier\n",
      "0.984\t\t0.649\t0.828\t\t0.822\t0.728\t5.0\t\tExtraTreesClassifier\n",
      "0.983\t\t0.728\t0.741\t\t0.86\t0.735\t14.0\t\tSGDClassifier\n",
      "0.984\t\t0.662\t0.819\t\t0.829\t0.732\t128.0\t\tLinearSVC\n"
     ]
    }
   ],
   "source": [
    "oof_list_ohe = []\n",
    "print('Accuracy\\tRecall\\tPrecision\\tAUC\\tF1\\tTime(s)\\t\\tModel')\n",
    "for i in range(len(clf_list)):\n",
    "    oof = KFold_sklearn(df_ohe, clf_list[i], name=name_list[i])\n",
    "    oof_list_ohe.append(oof)"
   ]
  },
  {
   "cell_type": "code",
   "execution_count": 39,
   "metadata": {},
   "outputs": [
    {
     "name": "stdout",
     "output_type": "stream",
     "text": [
      "Accuracy\tRecall\tPrecision\tAUC\tF1\tTime(s)\t\tModel\n",
      "0.986\t\t0.701\t0.835\t\t0.848\t0.762\t112.0\t\tMLPClassifier\n",
      "0.986\t\t0.685\t0.853\t\t0.84\t0.76\t36.0\t\tAdaBoostClassifier\n",
      "0.986\t\t0.686\t0.847\t\t0.841\t0.758\t21.0\t\tRandomForestClassifier\n",
      "0.986\t\t0.68\t0.842\t\t0.838\t0.753\t3.0\t\tDecisionTreeClassifier\n",
      "0.986\t\t0.671\t0.849\t\t0.834\t0.75\t5.0\t\tLogisticRegression\n",
      "0.983\t\t0.768\t0.728\t\t0.879\t0.747\t3.0\t\tQuadraticDiscriminantAnalysis\n",
      "0.983\t\t0.768\t0.727\t\t0.879\t0.747\t3.0\t\tGaussianNB\n",
      "0.985\t\t0.671\t0.818\t\t0.833\t0.737\t20.0\t\tKNeighborsClassifier\n",
      "0.984\t\t0.67\t0.81\t\t0.832\t0.733\t21.0\t\tBaggingClassifier\n",
      "0.984\t\t0.65\t0.827\t\t0.822\t0.728\t5.0\t\tExtraTreesClassifier\n",
      "0.983\t\t0.665\t0.783\t\t0.83\t0.719\t12.0\t\tSGDClassifier\n",
      "0.984\t\t0.61\t0.845\t\t0.803\t0.708\t131.0\t\tLinearSVC\n"
     ]
    }
   ],
   "source": [
    "oof_list_e = []\n",
    "print('Accuracy\\tRecall\\tPrecision\\tAUC\\tF1\\tTime(s)\\t\\tModel')\n",
    "for i in range(len(clf_list)):\n",
    "    oof = KFold_sklearn(df_e, clf_list[i], name=name_list[i])\n",
    "    oof_list_e.append(oof)"
   ]
  },
  {
   "cell_type": "code",
   "execution_count": 40,
   "metadata": {},
   "outputs": [
    {
     "name": "stdout",
     "output_type": "stream",
     "text": [
      "Accuracy\tRecall\tPrecision\tAUC\tF1\tTime(s)\t\tModel\n",
      "0.986\t\t0.701\t0.833\t\t0.848\t0.761\t56.0\t\tMLPClassifier\n",
      "0.986\t\t0.685\t0.853\t\t0.84\t0.76\t35.0\t\tAdaBoostClassifier\n",
      "0.986\t\t0.686\t0.847\t\t0.841\t0.758\t21.0\t\tRandomForestClassifier\n",
      "0.986\t\t0.68\t0.842\t\t0.838\t0.752\t3.0\t\tDecisionTreeClassifier\n",
      "0.986\t\t0.671\t0.849\t\t0.833\t0.749\t4.0\t\tLogisticRegression\n",
      "0.983\t\t0.768\t0.728\t\t0.879\t0.747\t3.0\t\tQuadraticDiscriminantAnalysis\n",
      "0.983\t\t0.768\t0.727\t\t0.879\t0.747\t3.0\t\tGaussianNB\n",
      "0.984\t\t0.676\t0.807\t\t0.835\t0.736\t25.0\t\tKNeighborsClassifier\n",
      "0.984\t\t0.669\t0.81\t\t0.832\t0.733\t21.0\t\tBaggingClassifier\n",
      "0.984\t\t0.65\t0.827\t\t0.823\t0.728\t5.0\t\tExtraTreesClassifier\n",
      "0.985\t\t0.663\t0.85\t\t0.83\t0.745\t4.0\t\tSGDClassifier\n",
      "0.985\t\t0.65\t0.865\t\t0.823\t0.742\t25.0\t\tLinearSVC\n"
     ]
    }
   ],
   "source": [
    "oof_list_e_scaled = []\n",
    "print('Accuracy\\tRecall\\tPrecision\\tAUC\\tF1\\tTime(s)\\t\\tModel')\n",
    "for i in range(len(clf_list)):\n",
    "    oof = KFold_sklearn(df_e_scaled, clf_list[i], name=name_list[i])\n",
    "    oof_list_e_scaled.append(oof)"
   ]
  },
  {
   "cell_type": "code",
   "execution_count": 26,
   "metadata": {},
   "outputs": [],
   "source": [
    "def KFold_lgb(df, param, categorial_features, n_splits=5, target='converted'):\n",
    "\n",
    "    print('Number of features = {}'.format(df.shape[1]-1))\n",
    "\n",
    "    folds = StratifiedKFold(n_splits=n_splits, shuffle=True, random_state=42)\n",
    "    oof = np.zeros(len(df))\n",
    "    for fold_, (trn_idx, val_idx) in enumerate(folds.split(df, df[target].round())):\n",
    "        print(\"fold {}\".format(fold_))\n",
    "        trn_data = lgb.Dataset(df.drop([target],axis=1).iloc[trn_idx], label=df[target].iloc[trn_idx],\n",
    "                               categorical_feature=categorial_features\n",
    "                              )\n",
    "        val_data = lgb.Dataset(df.drop([target],axis=1).iloc[val_idx], label=df[target].iloc[val_idx],\n",
    "                               categorical_feature=categorial_features\n",
    "                              )\n",
    "        num_round = 10000\n",
    "        clf = lgb.train(param, trn_data, num_round, valid_sets = [trn_data, val_data], verbose_eval=1000, early_stopping_rounds=1000)\n",
    "        preds = clf.predict(df.drop([target],axis=1).iloc[val_idx], num_iteration=clf.best_iteration)\n",
    "        oof[val_idx] = preds.round()\n",
    "        \n",
    "    ACC = accuracy_score(df[target], oof).round(3)\n",
    "    REC = recall_score(df[target], oof).round(3)\n",
    "    PRE = precision_score(df[target], oof).round(3)\n",
    "    AUC = roc_auc_score(df[target], oof).round(3)\n",
    "    F1  = f1_score(df[target], oof).round(3)\n",
    "    \n",
    "    print(f'Final result: \\naccuracy score: {ACC}   recall: {REC}   precision: {PRE}   AUC: {AUC}  F1: {F1}')\n",
    "    #print('Confusion matrix:')\n",
    "    #print(confusion_matrix(df[target], oof))\n",
    "    return oof\n",
    "\n",
    "param = {'feature_fraction':0.95, 'reg_alpha': 10, 'reg_lambda':10, \n",
    "         'objective':'binary', 'metric':'binary', 'boosting':'gbdt',\n",
    "         'seed':42, 'bagging_seed':42, 'feature_fraction_seed':42,\n",
    "         'n_jobs':-1\n",
    "        }\n",
    "\n"
   ]
  },
  {
   "cell_type": "code",
   "execution_count": 27,
   "metadata": {
    "scrolled": true
   },
   "outputs": [
    {
     "name": "stdout",
     "output_type": "stream",
     "text": [
      "Number of features = 5\n",
      "fold 0\n",
      "Training until validation scores don't improve for 1000 rounds.\n",
      "[1000]\ttraining's binary_logloss: 0.0399257\tvalid_1's binary_logloss: 0.0419985\n",
      "Early stopping, best iteration is:\n",
      "[399]\ttraining's binary_logloss: 0.0399257\tvalid_1's binary_logloss: 0.0419985\n",
      "fold 1\n",
      "Training until validation scores don't improve for 1000 rounds.\n",
      "[1000]\ttraining's binary_logloss: 0.0404424\tvalid_1's binary_logloss: 0.0400415\n",
      "Early stopping, best iteration is:\n",
      "[223]\ttraining's binary_logloss: 0.0404424\tvalid_1's binary_logloss: 0.0400414\n",
      "fold 2\n",
      "Training until validation scores don't improve for 1000 rounds.\n",
      "[1000]\ttraining's binary_logloss: 0.0402128\tvalid_1's binary_logloss: 0.0408632\n",
      "Early stopping, best iteration is:\n",
      "[294]\ttraining's binary_logloss: 0.0402128\tvalid_1's binary_logloss: 0.0408632\n",
      "fold 3\n",
      "Training until validation scores don't improve for 1000 rounds.\n",
      "[1000]\ttraining's binary_logloss: 0.040134\tvalid_1's binary_logloss: 0.0412131\n",
      "Early stopping, best iteration is:\n",
      "[232]\ttraining's binary_logloss: 0.0401346\tvalid_1's binary_logloss: 0.0412129\n",
      "fold 4\n",
      "Training until validation scores don't improve for 1000 rounds.\n",
      "[1000]\ttraining's binary_logloss: 0.0401768\tvalid_1's binary_logloss: 0.0410805\n",
      "Early stopping, best iteration is:\n",
      "[148]\ttraining's binary_logloss: 0.0401978\tvalid_1's binary_logloss: 0.0410793\n",
      "Final result: \n",
      "accuracy score: 0.986   recall: 0.692   precision: 0.847   AUC: 0.844  F1: 0.762\n"
     ]
    }
   ],
   "source": [
    "oof_lgb_e = KFold_lgb(df_e, param, ['country','new_user','source'])\n"
   ]
  },
  {
   "cell_type": "code",
   "execution_count": 30,
   "metadata": {
    "scrolled": true
   },
   "outputs": [
    {
     "name": "stdout",
     "output_type": "stream",
     "text": [
      "Number of features = 5\n",
      "fold 0\n",
      "Training until validation scores don't improve for 1000 rounds.\n",
      "[1000]\ttraining's binary_logloss: 0.0402937\tvalid_1's binary_logloss: 0.042195\n",
      "Early stopping, best iteration is:\n",
      "[304]\ttraining's binary_logloss: 0.0402937\tvalid_1's binary_logloss: 0.042195\n",
      "fold 1\n",
      "Training until validation scores don't improve for 1000 rounds.\n",
      "[1000]\ttraining's binary_logloss: 0.0407849\tvalid_1's binary_logloss: 0.0402084\n",
      "Early stopping, best iteration is:\n",
      "[211]\ttraining's binary_logloss: 0.040785\tvalid_1's binary_logloss: 0.0402084\n",
      "fold 2\n",
      "Training until validation scores don't improve for 1000 rounds.\n",
      "[1000]\ttraining's binary_logloss: 0.040623\tvalid_1's binary_logloss: 0.0408628\n",
      "Early stopping, best iteration is:\n",
      "[299]\ttraining's binary_logloss: 0.040623\tvalid_1's binary_logloss: 0.0408628\n",
      "fold 3\n",
      "Training until validation scores don't improve for 1000 rounds.\n",
      "[1000]\ttraining's binary_logloss: 0.0405609\tvalid_1's binary_logloss: 0.0413371\n",
      "Early stopping, best iteration is:\n",
      "[186]\ttraining's binary_logloss: 0.0405637\tvalid_1's binary_logloss: 0.0413368\n",
      "fold 4\n",
      "Training until validation scores don't improve for 1000 rounds.\n",
      "[1000]\ttraining's binary_logloss: 0.0405859\tvalid_1's binary_logloss: 0.0412074\n",
      "Early stopping, best iteration is:\n",
      "[263]\ttraining's binary_logloss: 0.0405859\tvalid_1's binary_logloss: 0.0412074\n",
      "Final result: \n",
      "accuracy score: 0.986   recall: 0.69   precision: 0.849   AUC: 0.843  F1: 0.761\n"
     ]
    }
   ],
   "source": [
    "oof_lgb_e_scaled = KFold_lgb(df_e_scaled, param, ['country','new_user','source'])\n"
   ]
  },
  {
   "cell_type": "markdown",
   "metadata": {},
   "source": [
    "## Hyperparameter tuning with optuna"
   ]
  },
  {
   "cell_type": "code",
   "execution_count": 13,
   "metadata": {},
   "outputs": [],
   "source": [
    "import optuna\n",
    "\n",
    "def objective(trial, num_folds=5, stratified=True, target='converted'):\n",
    "    \n",
    "    \"\"\"\n",
    "    gbdt is the most popular one\n",
    "    you usually only need gbdt or goss, dart rarely works and I haven't tried rf before\n",
    "    \"\"\"\n",
    "    \n",
    "    categorical_features = ['country','new_user','source']\n",
    "    if stratified:\n",
    "        folds = StratifiedKFold(n_splits= num_folds, shuffle=True, random_state=42)\n",
    "    else:\n",
    "        folds = KFold(n_splits= num_folds, shuffle=True, random_state=42)\n",
    "        \n",
    "    oof_preds = np.zeros(df_e.shape[0])\n",
    "    feats = [f for f in df_e.columns if f !=target]\n",
    "    \n",
    "    for n_fold, (train_idx, valid_idx) in enumerate(folds.split(df_e[feats], df_e[target])):\n",
    "        train_x, train_y = df_e[feats].iloc[train_idx], df_e[target].iloc[train_idx]\n",
    "        valid_x, valid_y = df_e[feats].iloc[valid_idx], df_e[target].iloc[valid_idx]\n",
    "\n",
    "        lgb_train = lgb.Dataset(train_x,\n",
    "                                label=train_y,\n",
    "                                categorical_feature=categorical_features)\n",
    "        lgb_test = lgb.Dataset(valid_x,\n",
    "                               label=valid_y,\n",
    "                               categorical_feature=categorical_features)\n",
    "        param = {'objective': 'binary', 'metric': 'binary', 'verbosity': -1, 'n_jobs': -1, \n",
    "                 #'boosting_type': trial.suggest_categorical('boosting_type', ['goss', 'gbdt','dart','rf']),\n",
    "                 'boosting_type':'gbdt','seed':42, 'feature_fraction_seed':42,\n",
    "                 'learning_rate': trial.suggest_uniform('learning_rate', 1e-2, 1e-1),\n",
    "                 'feature_fraction': trial.suggest_uniform('feature_fraction', 0.9, 1.),\n",
    "                 'num_leaves': trial.suggest_int('num_leaves', 20, 40),\n",
    "                 'min_data_in_leaf': trial.suggest_int('min_data_in_leaf', 10, 30),\n",
    "                 'max_depth': trial.suggest_int('max_depth', 10,20),\n",
    "                 'reg_alpha': trial.suggest_uniform('reg_alpha', 0, 10),\n",
    "                 'reg_lambda': trial.suggest_uniform('reg_lambda', 0, 10),\n",
    "                 'subsample': trial.suggest_uniform('subsample', 0.9, 1.0),\n",
    "                 'min_child_weight': trial.suggest_int('min_child_weight', 1, 20),\n",
    "                 'min_split_gain': trial.suggest_int('min_split_gain', 0, 10),\n",
    "                }\n",
    "        \n",
    "        if param['boosting_type'] == 'dart':\n",
    "            param['drop_rate'] = trial.suggest_loguniform('drop_rate', 1e-8, 1.0)\n",
    "            param['skip_drop'] = trial.suggest_loguniform('skip_drop', 1e-8, 1.0)\n",
    "\n",
    "        elif param['boosting_type'] == 'goss':\n",
    "            param['top_rate'] = trial.suggest_uniform('top_rate', 0.0, 1.0)\n",
    "            param['other_rate'] = trial.suggest_uniform('other_rate', 0.0, 1.0 - param['top_rate'])\n",
    "            \n",
    "        else:\n",
    "            param['bagging_freq'] = trial.suggest_int('bagging_freq', 0, 10)\n",
    "            param['bagging_fraction'] = trial.suggest_uniform('bagging_fraction', 0.9, 1.0)\n",
    "            param['bagging_seed'] = 42\n",
    "    \n",
    "    \n",
    "        clf = lgb.train(param, lgb_train, 40000, valid_sets=[lgb_train, lgb_test],\n",
    "                        verbose_eval=10000, early_stopping_rounds=1000)\n",
    "            \n",
    "        oof_preds[valid_idx] = clf.predict(df_e.iloc[valid_idx][feats], num_iteration=clf.best_iteration)\n",
    "        \n",
    "        del clf, train_x, train_y, valid_x, valid_y, train_idx, valid_idx\n",
    "        gc.collect()\n",
    "    \n",
    "    return (-1) * (f1_score(df_e[target], oof_preds.round()))\n"
   ]
  },
  {
   "cell_type": "code",
   "execution_count": 14,
   "metadata": {
    "scrolled": true
   },
   "outputs": [
    {
     "name": "stdout",
     "output_type": "stream",
     "text": [
      "Training until validation scores don't improve for 1000 rounds.\n",
      "Early stopping, best iteration is:\n",
      "[221]\ttraining's binary_logloss: 0.0399785\tvalid_1's binary_logloss: 0.0420321\n",
      "Training until validation scores don't improve for 1000 rounds.\n",
      "Early stopping, best iteration is:\n",
      "[116]\ttraining's binary_logloss: 0.0404978\tvalid_1's binary_logloss: 0.0400385\n",
      "Training until validation scores don't improve for 1000 rounds.\n",
      "Early stopping, best iteration is:\n",
      "[116]\ttraining's binary_logloss: 0.0402943\tvalid_1's binary_logloss: 0.040779\n",
      "Training until validation scores don't improve for 1000 rounds.\n",
      "Early stopping, best iteration is:\n",
      "[123]\ttraining's binary_logloss: 0.0402264\tvalid_1's binary_logloss: 0.0411117\n",
      "Training until validation scores don't improve for 1000 rounds.\n",
      "Early stopping, best iteration is:\n",
      "[123]\ttraining's binary_logloss: 0.040224\tvalid_1's binary_logloss: 0.0409846\n"
     ]
    },
    {
     "name": "stderr",
     "output_type": "stream",
     "text": [
      "[I 2020-02-08 09:42:21,302] Finished a trial resulted in value: -0.7633596027205009. Current best value is -0.7633596027205009 with parameters: {'learning_rate': 0.08130918703579237, 'feature_fraction': 0.9104236852257412, 'num_leaves': 28, 'min_data_in_leaf': 11, 'max_depth': 11, 'reg_alpha': 2.354741171111124, 'reg_lambda': 7.943330066914159, 'subsample': 0.993096184336284, 'min_child_weight': 2, 'min_split_gain': 1, 'bagging_freq': 8, 'bagging_fraction': 0.9725584934631921}.\n"
     ]
    },
    {
     "name": "stdout",
     "output_type": "stream",
     "text": [
      "Training until validation scores don't improve for 1000 rounds.\n",
      "Early stopping, best iteration is:\n",
      "[141]\ttraining's binary_logloss: 0.0403146\tvalid_1's binary_logloss: 0.0421423\n",
      "Training until validation scores don't improve for 1000 rounds.\n",
      "Early stopping, best iteration is:\n",
      "[101]\ttraining's binary_logloss: 0.0408302\tvalid_1's binary_logloss: 0.0401736\n",
      "Training until validation scores don't improve for 1000 rounds.\n",
      "Early stopping, best iteration is:\n",
      "[452]\ttraining's binary_logloss: 0.0406347\tvalid_1's binary_logloss: 0.0408559\n",
      "Training until validation scores don't improve for 1000 rounds.\n",
      "Early stopping, best iteration is:\n",
      "[137]\ttraining's binary_logloss: 0.0405446\tvalid_1's binary_logloss: 0.0413067\n",
      "Training until validation scores don't improve for 1000 rounds.\n",
      "Early stopping, best iteration is:\n",
      "[120]\ttraining's binary_logloss: 0.0405792\tvalid_1's binary_logloss: 0.0410699\n"
     ]
    },
    {
     "name": "stderr",
     "output_type": "stream",
     "text": [
      "[I 2020-02-08 09:43:15,940] Finished a trial resulted in value: -0.7621414294203446. Current best value is -0.7633596027205009 with parameters: {'learning_rate': 0.08130918703579237, 'feature_fraction': 0.9104236852257412, 'num_leaves': 28, 'min_data_in_leaf': 11, 'max_depth': 11, 'reg_alpha': 2.354741171111124, 'reg_lambda': 7.943330066914159, 'subsample': 0.993096184336284, 'min_child_weight': 2, 'min_split_gain': 1, 'bagging_freq': 8, 'bagging_fraction': 0.9725584934631921}.\n"
     ]
    },
    {
     "name": "stdout",
     "output_type": "stream",
     "text": [
      "Training until validation scores don't improve for 1000 rounds.\n",
      "Early stopping, best iteration is:\n",
      "[132]\ttraining's binary_logloss: 0.0402852\tvalid_1's binary_logloss: 0.0422726\n",
      "Training until validation scores don't improve for 1000 rounds.\n",
      "Early stopping, best iteration is:\n",
      "[145]\ttraining's binary_logloss: 0.0407948\tvalid_1's binary_logloss: 0.0400613\n",
      "Training until validation scores don't improve for 1000 rounds.\n",
      "Early stopping, best iteration is:\n",
      "[134]\ttraining's binary_logloss: 0.0405983\tvalid_1's binary_logloss: 0.040857\n",
      "Training until validation scores don't improve for 1000 rounds.\n",
      "Early stopping, best iteration is:\n",
      "[176]\ttraining's binary_logloss: 0.0405167\tvalid_1's binary_logloss: 0.0412426\n",
      "Training until validation scores don't improve for 1000 rounds.\n",
      "Early stopping, best iteration is:\n",
      "[135]\ttraining's binary_logloss: 0.0405408\tvalid_1's binary_logloss: 0.0410362\n"
     ]
    },
    {
     "name": "stderr",
     "output_type": "stream",
     "text": [
      "[I 2020-02-08 09:44:00,775] Finished a trial resulted in value: -0.7622804647392597. Current best value is -0.7633596027205009 with parameters: {'learning_rate': 0.08130918703579237, 'feature_fraction': 0.9104236852257412, 'num_leaves': 28, 'min_data_in_leaf': 11, 'max_depth': 11, 'reg_alpha': 2.354741171111124, 'reg_lambda': 7.943330066914159, 'subsample': 0.993096184336284, 'min_child_weight': 2, 'min_split_gain': 1, 'bagging_freq': 8, 'bagging_fraction': 0.9725584934631921}.\n"
     ]
    },
    {
     "name": "stdout",
     "output_type": "stream",
     "text": [
      "Training until validation scores don't improve for 1000 rounds.\n",
      "Early stopping, best iteration is:\n",
      "[75]\ttraining's binary_logloss: 0.0406525\tvalid_1's binary_logloss: 0.0424194\n",
      "Training until validation scores don't improve for 1000 rounds.\n",
      "Early stopping, best iteration is:\n",
      "[76]\ttraining's binary_logloss: 0.0411096\tvalid_1's binary_logloss: 0.0401831\n",
      "Training until validation scores don't improve for 1000 rounds.\n",
      "Early stopping, best iteration is:\n",
      "[84]\ttraining's binary_logloss: 0.0409646\tvalid_1's binary_logloss: 0.041118\n",
      "Training until validation scores don't improve for 1000 rounds.\n",
      "Early stopping, best iteration is:\n",
      "[97]\ttraining's binary_logloss: 0.040894\tvalid_1's binary_logloss: 0.0416256\n",
      "Training until validation scores don't improve for 1000 rounds.\n",
      "Early stopping, best iteration is:\n",
      "[109]\ttraining's binary_logloss: 0.0408109\tvalid_1's binary_logloss: 0.0412516\n"
     ]
    },
    {
     "name": "stderr",
     "output_type": "stream",
     "text": [
      "[I 2020-02-08 09:44:40,037] Finished a trial resulted in value: -0.7607991360691145. Current best value is -0.7633596027205009 with parameters: {'learning_rate': 0.08130918703579237, 'feature_fraction': 0.9104236852257412, 'num_leaves': 28, 'min_data_in_leaf': 11, 'max_depth': 11, 'reg_alpha': 2.354741171111124, 'reg_lambda': 7.943330066914159, 'subsample': 0.993096184336284, 'min_child_weight': 2, 'min_split_gain': 1, 'bagging_freq': 8, 'bagging_fraction': 0.9725584934631921}.\n"
     ]
    },
    {
     "name": "stdout",
     "output_type": "stream",
     "text": [
      "Training until validation scores don't improve for 1000 rounds.\n",
      "Early stopping, best iteration is:\n",
      "[95]\ttraining's binary_logloss: 0.0403791\tvalid_1's binary_logloss: 0.0422178\n",
      "Training until validation scores don't improve for 1000 rounds.\n",
      "Early stopping, best iteration is:\n",
      "[86]\ttraining's binary_logloss: 0.0408438\tvalid_1's binary_logloss: 0.0401916\n",
      "Training until validation scores don't improve for 1000 rounds.\n",
      "Early stopping, best iteration is:\n",
      "[96]\ttraining's binary_logloss: 0.0406833\tvalid_1's binary_logloss: 0.0408937\n",
      "Training until validation scores don't improve for 1000 rounds.\n",
      "Early stopping, best iteration is:\n",
      "[88]\ttraining's binary_logloss: 0.0405958\tvalid_1's binary_logloss: 0.0412741\n",
      "Training until validation scores don't improve for 1000 rounds.\n",
      "Early stopping, best iteration is:\n",
      "[90]\ttraining's binary_logloss: 0.0406178\tvalid_1's binary_logloss: 0.041086\n"
     ]
    },
    {
     "name": "stderr",
     "output_type": "stream",
     "text": [
      "[I 2020-02-08 09:45:18,304] Finished a trial resulted in value: -0.7628622117090479. Current best value is -0.7633596027205009 with parameters: {'learning_rate': 0.08130918703579237, 'feature_fraction': 0.9104236852257412, 'num_leaves': 28, 'min_data_in_leaf': 11, 'max_depth': 11, 'reg_alpha': 2.354741171111124, 'reg_lambda': 7.943330066914159, 'subsample': 0.993096184336284, 'min_child_weight': 2, 'min_split_gain': 1, 'bagging_freq': 8, 'bagging_fraction': 0.9725584934631921}.\n"
     ]
    },
    {
     "name": "stdout",
     "output_type": "stream",
     "text": [
      "Training until validation scores don't improve for 1000 rounds.\n",
      "Early stopping, best iteration is:\n",
      "[84]\ttraining's binary_logloss: 0.0407025\tvalid_1's binary_logloss: 0.0424712\n",
      "Training until validation scores don't improve for 1000 rounds.\n",
      "Early stopping, best iteration is:\n",
      "[92]\ttraining's binary_logloss: 0.0411478\tvalid_1's binary_logloss: 0.0402774\n",
      "Training until validation scores don't improve for 1000 rounds.\n",
      "Early stopping, best iteration is:\n",
      "[81]\ttraining's binary_logloss: 0.0409925\tvalid_1's binary_logloss: 0.0410581\n",
      "Training until validation scores don't improve for 1000 rounds.\n",
      "Early stopping, best iteration is:\n",
      "[77]\ttraining's binary_logloss: 0.0408623\tvalid_1's binary_logloss: 0.0414658\n",
      "Training until validation scores don't improve for 1000 rounds.\n",
      "Early stopping, best iteration is:\n",
      "[78]\ttraining's binary_logloss: 0.0409158\tvalid_1's binary_logloss: 0.0411805\n"
     ]
    },
    {
     "name": "stderr",
     "output_type": "stream",
     "text": [
      "[I 2020-02-08 09:45:55,146] Finished a trial resulted in value: -0.7620020429009193. Current best value is -0.7633596027205009 with parameters: {'learning_rate': 0.08130918703579237, 'feature_fraction': 0.9104236852257412, 'num_leaves': 28, 'min_data_in_leaf': 11, 'max_depth': 11, 'reg_alpha': 2.354741171111124, 'reg_lambda': 7.943330066914159, 'subsample': 0.993096184336284, 'min_child_weight': 2, 'min_split_gain': 1, 'bagging_freq': 8, 'bagging_fraction': 0.9725584934631921}.\n"
     ]
    },
    {
     "name": "stdout",
     "output_type": "stream",
     "text": [
      "Training until validation scores don't improve for 1000 rounds.\n",
      "Early stopping, best iteration is:\n",
      "[166]\ttraining's binary_logloss: 0.039882\tvalid_1's binary_logloss: 0.0420411\n",
      "Training until validation scores don't improve for 1000 rounds.\n",
      "Early stopping, best iteration is:\n",
      "[236]\ttraining's binary_logloss: 0.0404035\tvalid_1's binary_logloss: 0.0399737\n",
      "Training until validation scores don't improve for 1000 rounds.\n",
      "Early stopping, best iteration is:\n",
      "[177]\ttraining's binary_logloss: 0.0401691\tvalid_1's binary_logloss: 0.0407264\n",
      "Training until validation scores don't improve for 1000 rounds.\n",
      "Early stopping, best iteration is:\n",
      "[173]\ttraining's binary_logloss: 0.0401089\tvalid_1's binary_logloss: 0.0410677\n",
      "Training until validation scores don't improve for 1000 rounds.\n",
      "Early stopping, best iteration is:\n",
      "[175]\ttraining's binary_logloss: 0.0401544\tvalid_1's binary_logloss: 0.0409527\n"
     ]
    },
    {
     "name": "stderr",
     "output_type": "stream",
     "text": [
      "[I 2020-02-08 09:46:48,702] Finished a trial resulted in value: -0.7632699250956513. Current best value is -0.7633596027205009 with parameters: {'learning_rate': 0.08130918703579237, 'feature_fraction': 0.9104236852257412, 'num_leaves': 28, 'min_data_in_leaf': 11, 'max_depth': 11, 'reg_alpha': 2.354741171111124, 'reg_lambda': 7.943330066914159, 'subsample': 0.993096184336284, 'min_child_weight': 2, 'min_split_gain': 1, 'bagging_freq': 8, 'bagging_fraction': 0.9725584934631921}.\n"
     ]
    },
    {
     "name": "stdout",
     "output_type": "stream",
     "text": [
      "Training until validation scores don't improve for 1000 rounds.\n",
      "Early stopping, best iteration is:\n",
      "[111]\ttraining's binary_logloss: 0.040462\tvalid_1's binary_logloss: 0.0422297\n",
      "Training until validation scores don't improve for 1000 rounds.\n",
      "Early stopping, best iteration is:\n",
      "[194]\ttraining's binary_logloss: 0.0409594\tvalid_1's binary_logloss: 0.0402165\n",
      "Training until validation scores don't improve for 1000 rounds.\n",
      "Early stopping, best iteration is:\n",
      "[154]\ttraining's binary_logloss: 0.0407609\tvalid_1's binary_logloss: 0.0409406\n",
      "Training until validation scores don't improve for 1000 rounds.\n",
      "Early stopping, best iteration is:\n",
      "[121]\ttraining's binary_logloss: 0.0406337\tvalid_1's binary_logloss: 0.0412349\n",
      "Training until validation scores don't improve for 1000 rounds.\n",
      "Early stopping, best iteration is:\n",
      "[110]\ttraining's binary_logloss: 0.0407014\tvalid_1's binary_logloss: 0.0411638\n"
     ]
    },
    {
     "name": "stderr",
     "output_type": "stream",
     "text": [
      "[I 2020-02-08 09:47:27,649] Finished a trial resulted in value: -0.7629665535627727. Current best value is -0.7633596027205009 with parameters: {'learning_rate': 0.08130918703579237, 'feature_fraction': 0.9104236852257412, 'num_leaves': 28, 'min_data_in_leaf': 11, 'max_depth': 11, 'reg_alpha': 2.354741171111124, 'reg_lambda': 7.943330066914159, 'subsample': 0.993096184336284, 'min_child_weight': 2, 'min_split_gain': 1, 'bagging_freq': 8, 'bagging_fraction': 0.9725584934631921}.\n"
     ]
    },
    {
     "name": "stdout",
     "output_type": "stream",
     "text": [
      "Training until validation scores don't improve for 1000 rounds.\n",
      "Early stopping, best iteration is:\n",
      "[263]\ttraining's binary_logloss: 0.0403568\tvalid_1's binary_logloss: 0.042179\n",
      "Training until validation scores don't improve for 1000 rounds.\n",
      "Early stopping, best iteration is:\n",
      "[253]\ttraining's binary_logloss: 0.0408717\tvalid_1's binary_logloss: 0.0400519\n",
      "Training until validation scores don't improve for 1000 rounds.\n",
      "Early stopping, best iteration is:\n",
      "[285]\ttraining's binary_logloss: 0.0406758\tvalid_1's binary_logloss: 0.0408621\n",
      "Training until validation scores don't improve for 1000 rounds.\n",
      "Early stopping, best iteration is:\n",
      "[246]\ttraining's binary_logloss: 0.0405745\tvalid_1's binary_logloss: 0.0412652\n",
      "Training until validation scores don't improve for 1000 rounds.\n",
      "Early stopping, best iteration is:\n",
      "[256]\ttraining's binary_logloss: 0.040612\tvalid_1's binary_logloss: 0.0410358\n"
     ]
    },
    {
     "name": "stderr",
     "output_type": "stream",
     "text": [
      "[I 2020-02-08 09:48:25,170] Finished a trial resulted in value: -0.7626295336787564. Current best value is -0.7633596027205009 with parameters: {'learning_rate': 0.08130918703579237, 'feature_fraction': 0.9104236852257412, 'num_leaves': 28, 'min_data_in_leaf': 11, 'max_depth': 11, 'reg_alpha': 2.354741171111124, 'reg_lambda': 7.943330066914159, 'subsample': 0.993096184336284, 'min_child_weight': 2, 'min_split_gain': 1, 'bagging_freq': 8, 'bagging_fraction': 0.9725584934631921}.\n"
     ]
    },
    {
     "name": "stdout",
     "output_type": "stream",
     "text": [
      "Training until validation scores don't improve for 1000 rounds.\n",
      "Early stopping, best iteration is:\n",
      "[231]\ttraining's binary_logloss: 0.0402829\tvalid_1's binary_logloss: 0.0421136\n",
      "Training until validation scores don't improve for 1000 rounds.\n",
      "Early stopping, best iteration is:\n",
      "[133]\ttraining's binary_logloss: 0.0408149\tvalid_1's binary_logloss: 0.0400822\n",
      "Training until validation scores don't improve for 1000 rounds.\n",
      "Early stopping, best iteration is:\n",
      "[133]\ttraining's binary_logloss: 0.0405704\tvalid_1's binary_logloss: 0.0408099\n",
      "Training until validation scores don't improve for 1000 rounds.\n",
      "Early stopping, best iteration is:\n",
      "[135]\ttraining's binary_logloss: 0.0404948\tvalid_1's binary_logloss: 0.0412262\n",
      "Training until validation scores don't improve for 1000 rounds.\n",
      "Early stopping, best iteration is:\n",
      "[214]\ttraining's binary_logloss: 0.0405162\tvalid_1's binary_logloss: 0.0409578\n"
     ]
    },
    {
     "name": "stderr",
     "output_type": "stream",
     "text": [
      "[I 2020-02-08 09:49:13,838] Finished a trial resulted in value: -0.7629366106080206. Current best value is -0.7633596027205009 with parameters: {'learning_rate': 0.08130918703579237, 'feature_fraction': 0.9104236852257412, 'num_leaves': 28, 'min_data_in_leaf': 11, 'max_depth': 11, 'reg_alpha': 2.354741171111124, 'reg_lambda': 7.943330066914159, 'subsample': 0.993096184336284, 'min_child_weight': 2, 'min_split_gain': 1, 'bagging_freq': 8, 'bagging_fraction': 0.9725584934631921}.\n"
     ]
    },
    {
     "name": "stdout",
     "output_type": "stream",
     "text": [
      "Training until validation scores don't improve for 1000 rounds.\n",
      "Early stopping, best iteration is:\n",
      "[792]\ttraining's binary_logloss: 0.0397462\tvalid_1's binary_logloss: 0.0420923\n",
      "Training until validation scores don't improve for 1000 rounds.\n",
      "Early stopping, best iteration is:\n",
      "[710]\ttraining's binary_logloss: 0.0403187\tvalid_1's binary_logloss: 0.0399554\n",
      "Training until validation scores don't improve for 1000 rounds.\n",
      "Early stopping, best iteration is:\n",
      "[753]\ttraining's binary_logloss: 0.0400793\tvalid_1's binary_logloss: 0.0407792\n",
      "Training until validation scores don't improve for 1000 rounds.\n",
      "Early stopping, best iteration is:\n",
      "[732]\ttraining's binary_logloss: 0.0400038\tvalid_1's binary_logloss: 0.0411474\n",
      "Training until validation scores don't improve for 1000 rounds.\n",
      "Early stopping, best iteration is:\n",
      "[666]\ttraining's binary_logloss: 0.0400945\tvalid_1's binary_logloss: 0.0409446\n"
     ]
    },
    {
     "name": "stderr",
     "output_type": "stream",
     "text": [
      "[I 2020-02-08 09:52:20,101] Finished a trial resulted in value: -0.7631024990554325. Current best value is -0.7633596027205009 with parameters: {'learning_rate': 0.08130918703579237, 'feature_fraction': 0.9104236852257412, 'num_leaves': 28, 'min_data_in_leaf': 11, 'max_depth': 11, 'reg_alpha': 2.354741171111124, 'reg_lambda': 7.943330066914159, 'subsample': 0.993096184336284, 'min_child_weight': 2, 'min_split_gain': 1, 'bagging_freq': 8, 'bagging_fraction': 0.9725584934631921}.\n"
     ]
    },
    {
     "name": "stdout",
     "output_type": "stream",
     "text": [
      "Training until validation scores don't improve for 1000 rounds.\n",
      "Early stopping, best iteration is:\n",
      "[181]\ttraining's binary_logloss: 0.0404481\tvalid_1's binary_logloss: 0.0423931\n",
      "Training until validation scores don't improve for 1000 rounds.\n",
      "Early stopping, best iteration is:\n",
      "[171]\ttraining's binary_logloss: 0.0409397\tvalid_1's binary_logloss: 0.0400779\n",
      "Training until validation scores don't improve for 1000 rounds.\n",
      "Early stopping, best iteration is:\n",
      "[170]\ttraining's binary_logloss: 0.0407509\tvalid_1's binary_logloss: 0.0408954\n",
      "Training until validation scores don't improve for 1000 rounds.\n",
      "Early stopping, best iteration is:\n",
      "[196]\ttraining's binary_logloss: 0.0406456\tvalid_1's binary_logloss: 0.0412914\n",
      "Training until validation scores don't improve for 1000 rounds.\n",
      "Early stopping, best iteration is:\n",
      "[168]\ttraining's binary_logloss: 0.0406916\tvalid_1's binary_logloss: 0.0410522\n"
     ]
    },
    {
     "name": "stderr",
     "output_type": "stream",
     "text": [
      "[I 2020-02-08 09:53:10,760] Finished a trial resulted in value: -0.7629901696013828. Current best value is -0.7633596027205009 with parameters: {'learning_rate': 0.08130918703579237, 'feature_fraction': 0.9104236852257412, 'num_leaves': 28, 'min_data_in_leaf': 11, 'max_depth': 11, 'reg_alpha': 2.354741171111124, 'reg_lambda': 7.943330066914159, 'subsample': 0.993096184336284, 'min_child_weight': 2, 'min_split_gain': 1, 'bagging_freq': 8, 'bagging_fraction': 0.9725584934631921}.\n"
     ]
    },
    {
     "name": "stdout",
     "output_type": "stream",
     "text": [
      "Training until validation scores don't improve for 1000 rounds.\n",
      "Early stopping, best iteration is:\n",
      "[321]\ttraining's binary_logloss: 0.0400535\tvalid_1's binary_logloss: 0.0420489\n",
      "Training until validation scores don't improve for 1000 rounds.\n",
      "Early stopping, best iteration is:\n",
      "[265]\ttraining's binary_logloss: 0.0405556\tvalid_1's binary_logloss: 0.039966\n",
      "Training until validation scores don't improve for 1000 rounds.\n",
      "Early stopping, best iteration is:\n",
      "[277]\ttraining's binary_logloss: 0.040357\tvalid_1's binary_logloss: 0.0407238\n",
      "Training until validation scores don't improve for 1000 rounds.\n",
      "Early stopping, best iteration is:\n",
      "[248]\ttraining's binary_logloss: 0.0402844\tvalid_1's binary_logloss: 0.0411242\n",
      "Training until validation scores don't improve for 1000 rounds.\n",
      "Early stopping, best iteration is:\n",
      "[254]\ttraining's binary_logloss: 0.0403129\tvalid_1's binary_logloss: 0.0409653\n"
     ]
    },
    {
     "name": "stderr",
     "output_type": "stream",
     "text": [
      "[I 2020-02-08 09:53:53,233] Finished a trial resulted in value: -0.7630656383150854. Current best value is -0.7633596027205009 with parameters: {'learning_rate': 0.08130918703579237, 'feature_fraction': 0.9104236852257412, 'num_leaves': 28, 'min_data_in_leaf': 11, 'max_depth': 11, 'reg_alpha': 2.354741171111124, 'reg_lambda': 7.943330066914159, 'subsample': 0.993096184336284, 'min_child_weight': 2, 'min_split_gain': 1, 'bagging_freq': 8, 'bagging_fraction': 0.9725584934631921}.\n"
     ]
    },
    {
     "name": "stdout",
     "output_type": "stream",
     "text": [
      "Training until validation scores don't improve for 1000 rounds.\n",
      "Early stopping, best iteration is:\n",
      "[119]\ttraining's binary_logloss: 0.040316\tvalid_1's binary_logloss: 0.0421349\n",
      "Training until validation scores don't improve for 1000 rounds.\n",
      "Early stopping, best iteration is:\n",
      "[112]\ttraining's binary_logloss: 0.0408449\tvalid_1's binary_logloss: 0.0400573\n",
      "Training until validation scores don't improve for 1000 rounds.\n",
      "Early stopping, best iteration is:\n",
      "[128]\ttraining's binary_logloss: 0.0406579\tvalid_1's binary_logloss: 0.0408502\n",
      "Training until validation scores don't improve for 1000 rounds.\n",
      "Early stopping, best iteration is:\n",
      "[111]\ttraining's binary_logloss: 0.0405414\tvalid_1's binary_logloss: 0.0411754\n",
      "Training until validation scores don't improve for 1000 rounds.\n",
      "Early stopping, best iteration is:\n",
      "[150]\ttraining's binary_logloss: 0.0405774\tvalid_1's binary_logloss: 0.0411005\n"
     ]
    },
    {
     "name": "stderr",
     "output_type": "stream",
     "text": [
      "[I 2020-02-08 09:54:29,656] Finished a trial resulted in value: -0.7651409583020687. Current best value is -0.7651409583020687 with parameters: {'learning_rate': 0.07755148872608791, 'feature_fraction': 0.9535984461921252, 'num_leaves': 24, 'min_data_in_leaf': 13, 'max_depth': 17, 'reg_alpha': 6.742189622082368, 'reg_lambda': 9.800193440118033, 'subsample': 0.9987429090566036, 'min_child_weight': 1, 'min_split_gain': 2, 'bagging_freq': 9, 'bagging_fraction': 0.9227591042454988}.\n"
     ]
    },
    {
     "name": "stdout",
     "output_type": "stream",
     "text": [
      "Training until validation scores don't improve for 1000 rounds.\n",
      "Early stopping, best iteration is:\n",
      "[258]\ttraining's binary_logloss: 0.0406737\tvalid_1's binary_logloss: 0.0424629\n",
      "Training until validation scores don't improve for 1000 rounds.\n",
      "Early stopping, best iteration is:\n",
      "[284]\ttraining's binary_logloss: 0.0411948\tvalid_1's binary_logloss: 0.0402267\n",
      "Training until validation scores don't improve for 1000 rounds.\n",
      "Early stopping, best iteration is:\n",
      "[270]\ttraining's binary_logloss: 0.0409476\tvalid_1's binary_logloss: 0.0410055\n",
      "Training until validation scores don't improve for 1000 rounds.\n",
      "Early stopping, best iteration is:\n",
      "[281]\ttraining's binary_logloss: 0.0408678\tvalid_1's binary_logloss: 0.0414406\n",
      "Training until validation scores don't improve for 1000 rounds.\n",
      "Early stopping, best iteration is:\n",
      "[258]\ttraining's binary_logloss: 0.040932\tvalid_1's binary_logloss: 0.0412004\n"
     ]
    },
    {
     "name": "stderr",
     "output_type": "stream",
     "text": [
      "[I 2020-02-08 09:55:18,729] Finished a trial resulted in value: -0.7635207929325577. Current best value is -0.7651409583020687 with parameters: {'learning_rate': 0.07755148872608791, 'feature_fraction': 0.9535984461921252, 'num_leaves': 24, 'min_data_in_leaf': 13, 'max_depth': 17, 'reg_alpha': 6.742189622082368, 'reg_lambda': 9.800193440118033, 'subsample': 0.9987429090566036, 'min_child_weight': 1, 'min_split_gain': 2, 'bagging_freq': 9, 'bagging_fraction': 0.9227591042454988}.\n"
     ]
    },
    {
     "name": "stdout",
     "output_type": "stream",
     "text": [
      "Training until validation scores don't improve for 1000 rounds.\n",
      "Early stopping, best iteration is:\n",
      "[129]\ttraining's binary_logloss: 0.0404424\tvalid_1's binary_logloss: 0.042275\n",
      "Training until validation scores don't improve for 1000 rounds.\n",
      "Early stopping, best iteration is:\n",
      "[125]\ttraining's binary_logloss: 0.0409159\tvalid_1's binary_logloss: 0.0400903\n",
      "Training until validation scores don't improve for 1000 rounds.\n",
      "Early stopping, best iteration is:\n",
      "[141]\ttraining's binary_logloss: 0.0407343\tvalid_1's binary_logloss: 0.0409122\n",
      "Training until validation scores don't improve for 1000 rounds.\n",
      "Early stopping, best iteration is:\n",
      "[136]\ttraining's binary_logloss: 0.0406493\tvalid_1's binary_logloss: 0.0412504\n",
      "Training until validation scores don't improve for 1000 rounds.\n",
      "Early stopping, best iteration is:\n",
      "[127]\ttraining's binary_logloss: 0.0406973\tvalid_1's binary_logloss: 0.0410569\n"
     ]
    },
    {
     "name": "stderr",
     "output_type": "stream",
     "text": [
      "[I 2020-02-08 09:56:02,526] Finished a trial resulted in value: -0.7638066530304661. Current best value is -0.7651409583020687 with parameters: {'learning_rate': 0.07755148872608791, 'feature_fraction': 0.9535984461921252, 'num_leaves': 24, 'min_data_in_leaf': 13, 'max_depth': 17, 'reg_alpha': 6.742189622082368, 'reg_lambda': 9.800193440118033, 'subsample': 0.9987429090566036, 'min_child_weight': 1, 'min_split_gain': 2, 'bagging_freq': 9, 'bagging_fraction': 0.9227591042454988}.\n"
     ]
    },
    {
     "name": "stdout",
     "output_type": "stream",
     "text": [
      "Training until validation scores don't improve for 1000 rounds.\n",
      "Early stopping, best iteration is:\n",
      "[140]\ttraining's binary_logloss: 0.0405905\tvalid_1's binary_logloss: 0.0423781\n",
      "Training until validation scores don't improve for 1000 rounds.\n",
      "Early stopping, best iteration is:\n",
      "[143]\ttraining's binary_logloss: 0.0411347\tvalid_1's binary_logloss: 0.0402666\n",
      "Training until validation scores don't improve for 1000 rounds.\n",
      "Early stopping, best iteration is:\n",
      "[135]\ttraining's binary_logloss: 0.0409179\tvalid_1's binary_logloss: 0.041042\n",
      "Training until validation scores don't improve for 1000 rounds.\n",
      "Early stopping, best iteration is:\n",
      "[155]\ttraining's binary_logloss: 0.040791\tvalid_1's binary_logloss: 0.0413599\n",
      "Training until validation scores don't improve for 1000 rounds.\n",
      "Early stopping, best iteration is:\n",
      "[142]\ttraining's binary_logloss: 0.0408816\tvalid_1's binary_logloss: 0.0411618\n"
     ]
    },
    {
     "name": "stderr",
     "output_type": "stream",
     "text": [
      "[I 2020-02-08 09:56:51,750] Finished a trial resulted in value: -0.762854371025116. Current best value is -0.7651409583020687 with parameters: {'learning_rate': 0.07755148872608791, 'feature_fraction': 0.9535984461921252, 'num_leaves': 24, 'min_data_in_leaf': 13, 'max_depth': 17, 'reg_alpha': 6.742189622082368, 'reg_lambda': 9.800193440118033, 'subsample': 0.9987429090566036, 'min_child_weight': 1, 'min_split_gain': 2, 'bagging_freq': 9, 'bagging_fraction': 0.9227591042454988}.\n"
     ]
    },
    {
     "name": "stdout",
     "output_type": "stream",
     "text": [
      "Training until validation scores don't improve for 1000 rounds.\n",
      "Early stopping, best iteration is:\n",
      "[130]\ttraining's binary_logloss: 0.0404155\tvalid_1's binary_logloss: 0.0422704\n",
      "Training until validation scores don't improve for 1000 rounds.\n",
      "Early stopping, best iteration is:\n",
      "[115]\ttraining's binary_logloss: 0.0409346\tvalid_1's binary_logloss: 0.0401774\n",
      "Training until validation scores don't improve for 1000 rounds.\n",
      "Early stopping, best iteration is:\n",
      "[124]\ttraining's binary_logloss: 0.0407117\tvalid_1's binary_logloss: 0.0408657\n",
      "Training until validation scores don't improve for 1000 rounds.\n",
      "Early stopping, best iteration is:\n",
      "[118]\ttraining's binary_logloss: 0.0406353\tvalid_1's binary_logloss: 0.0413032\n",
      "Training until validation scores don't improve for 1000 rounds.\n",
      "Early stopping, best iteration is:\n",
      "[124]\ttraining's binary_logloss: 0.040668\tvalid_1's binary_logloss: 0.0410457\n"
     ]
    },
    {
     "name": "stderr",
     "output_type": "stream",
     "text": [
      "[I 2020-02-08 09:57:35,254] Finished a trial resulted in value: -0.7624082865774707. Current best value is -0.7651409583020687 with parameters: {'learning_rate': 0.07755148872608791, 'feature_fraction': 0.9535984461921252, 'num_leaves': 24, 'min_data_in_leaf': 13, 'max_depth': 17, 'reg_alpha': 6.742189622082368, 'reg_lambda': 9.800193440118033, 'subsample': 0.9987429090566036, 'min_child_weight': 1, 'min_split_gain': 2, 'bagging_freq': 9, 'bagging_fraction': 0.9227591042454988}.\n"
     ]
    },
    {
     "name": "stdout",
     "output_type": "stream",
     "text": [
      "Training until validation scores don't improve for 1000 rounds.\n",
      "Early stopping, best iteration is:\n",
      "[135]\ttraining's binary_logloss: 0.0404133\tvalid_1's binary_logloss: 0.0421707\n",
      "Training until validation scores don't improve for 1000 rounds.\n",
      "Early stopping, best iteration is:\n",
      "[134]\ttraining's binary_logloss: 0.0408935\tvalid_1's binary_logloss: 0.0401465\n",
      "Training until validation scores don't improve for 1000 rounds.\n",
      "Early stopping, best iteration is:\n",
      "[125]\ttraining's binary_logloss: 0.0407399\tvalid_1's binary_logloss: 0.0409301\n",
      "Training until validation scores don't improve for 1000 rounds.\n",
      "Early stopping, best iteration is:\n",
      "[124]\ttraining's binary_logloss: 0.0406386\tvalid_1's binary_logloss: 0.0412529\n",
      "Training until validation scores don't improve for 1000 rounds.\n",
      "Early stopping, best iteration is:\n",
      "[151]\ttraining's binary_logloss: 0.0406533\tvalid_1's binary_logloss: 0.0410931\n"
     ]
    },
    {
     "name": "stderr",
     "output_type": "stream",
     "text": [
      "[I 2020-02-08 09:58:19,277] Finished a trial resulted in value: -0.7631763122476447. Current best value is -0.7651409583020687 with parameters: {'learning_rate': 0.07755148872608791, 'feature_fraction': 0.9535984461921252, 'num_leaves': 24, 'min_data_in_leaf': 13, 'max_depth': 17, 'reg_alpha': 6.742189622082368, 'reg_lambda': 9.800193440118033, 'subsample': 0.9987429090566036, 'min_child_weight': 1, 'min_split_gain': 2, 'bagging_freq': 9, 'bagging_fraction': 0.9227591042454988}.\n"
     ]
    },
    {
     "name": "stdout",
     "output_type": "stream",
     "text": [
      "Training until validation scores don't improve for 1000 rounds.\n",
      "Early stopping, best iteration is:\n",
      "[192]\ttraining's binary_logloss: 0.0398179\tvalid_1's binary_logloss: 0.0420492\n",
      "Training until validation scores don't improve for 1000 rounds.\n",
      "Early stopping, best iteration is:\n",
      "[232]\ttraining's binary_logloss: 0.0402654\tvalid_1's binary_logloss: 0.0400472\n",
      "Training until validation scores don't improve for 1000 rounds.\n",
      "Early stopping, best iteration is:\n",
      "[139]\ttraining's binary_logloss: 0.0402288\tvalid_1's binary_logloss: 0.0408383\n",
      "Training until validation scores don't improve for 1000 rounds.\n",
      "Early stopping, best iteration is:\n",
      "[144]\ttraining's binary_logloss: 0.0401049\tvalid_1's binary_logloss: 0.041164\n",
      "Training until validation scores don't improve for 1000 rounds.\n",
      "Early stopping, best iteration is:\n",
      "[119]\ttraining's binary_logloss: 0.0402185\tvalid_1's binary_logloss: 0.0410144\n"
     ]
    },
    {
     "name": "stderr",
     "output_type": "stream",
     "text": [
      "[I 2020-02-08 09:59:48,709] Finished a trial resulted in value: -0.7621157274839268. Current best value is -0.7651409583020687 with parameters: {'learning_rate': 0.07755148872608791, 'feature_fraction': 0.9535984461921252, 'num_leaves': 24, 'min_data_in_leaf': 13, 'max_depth': 17, 'reg_alpha': 6.742189622082368, 'reg_lambda': 9.800193440118033, 'subsample': 0.9987429090566036, 'min_child_weight': 1, 'min_split_gain': 2, 'bagging_freq': 9, 'bagging_fraction': 0.9227591042454988}.\n"
     ]
    },
    {
     "name": "stdout",
     "output_type": "stream",
     "text": [
      "study.best_params: \t\n",
      "{'learning_rate': 0.07755148872608791, 'feature_fraction': 0.9535984461921252, 'num_leaves': 24, 'min_data_in_leaf': 13, 'max_depth': 17, 'reg_alpha': 6.742189622082368, 'reg_lambda': 9.800193440118033, 'subsample': 0.9987429090566036, 'min_child_weight': 1, 'min_split_gain': 2, 'bagging_freq': 9, 'bagging_fraction': 0.9227591042454988}\n",
      "study.best_value: \t\n",
      "-0.7651409583020687\n",
      "study.best_trial.user_attrs: \t\n",
      "{}\n",
      "CPU times: user 1h 23min 42s, sys: 7min 45s, total: 1h 31min 28s\n",
      "Wall time: 18min 8s\n"
     ]
    }
   ],
   "source": [
    "%%time\n",
    "study = optuna.create_study()\n",
    "study.optimize(objective, n_trials=20)\n",
    "print('study.best_params: \\t')\n",
    "print(study.best_params)\n",
    "print('study.best_value: \\t')\n",
    "print(study.best_value)\n",
    "print('study.best_trial.user_attrs: \\t')\n",
    "print(study.best_trial.user_attrs)\n",
    "optuna_lgb = study.trials_dataframe()\n",
    "optuna_lgb.to_csv(\"magic.csv\")\n"
   ]
  },
  {
   "cell_type": "code",
   "execution_count": 31,
   "metadata": {
    "scrolled": true
   },
   "outputs": [
    {
     "name": "stdout",
     "output_type": "stream",
     "text": [
      "Number of features = 5\n",
      "fold 0\n",
      "Training until validation scores don't improve for 1000 rounds.\n",
      "[1000]\ttraining's binary_logloss: 0.0403146\tvalid_1's binary_logloss: 0.0421362\n",
      "Early stopping, best iteration is:\n",
      "[119]\ttraining's binary_logloss: 0.040316\tvalid_1's binary_logloss: 0.0421349\n",
      "fold 1\n",
      "Training until validation scores don't improve for 1000 rounds.\n",
      "[1000]\ttraining's binary_logloss: 0.0408449\tvalid_1's binary_logloss: 0.0400573\n",
      "Early stopping, best iteration is:\n",
      "[112]\ttraining's binary_logloss: 0.0408449\tvalid_1's binary_logloss: 0.0400573\n",
      "fold 2\n",
      "Training until validation scores don't improve for 1000 rounds.\n",
      "[1000]\ttraining's binary_logloss: 0.0406579\tvalid_1's binary_logloss: 0.0408502\n",
      "Early stopping, best iteration is:\n",
      "[120]\ttraining's binary_logloss: 0.0406579\tvalid_1's binary_logloss: 0.0408502\n",
      "fold 3\n",
      "Training until validation scores don't improve for 1000 rounds.\n",
      "[1000]\ttraining's binary_logloss: 0.0405376\tvalid_1's binary_logloss: 0.0411765\n",
      "Early stopping, best iteration is:\n",
      "[111]\ttraining's binary_logloss: 0.0405414\tvalid_1's binary_logloss: 0.0411754\n",
      "fold 4\n",
      "Training until validation scores don't improve for 1000 rounds.\n",
      "[1000]\ttraining's binary_logloss: 0.0405774\tvalid_1's binary_logloss: 0.0411005\n",
      "Early stopping, best iteration is:\n",
      "[124]\ttraining's binary_logloss: 0.0405774\tvalid_1's binary_logloss: 0.0411005\n",
      "Final result: \n",
      "accuracy score: 0.986   recall: 0.7   precision: 0.844   AUC: 0.848  F1: 0.765\n"
     ]
    }
   ],
   "source": [
    "best_params = {**{'objective': 'binary', 'metric': 'binary', 'verbosity': -1, 'n_jobs': -1,\n",
    "                'boosting_type':'gbdt', 'seed':42, 'feature_fraction_seed':42, 'bagging_seed':42},\n",
    "               **study.best_params}\n",
    "\n",
    "oof_lgb_best = KFold_lgb(df_e, best_params, ['country','new_user','source'])\n"
   ]
  },
  {
   "cell_type": "code",
   "execution_count": 77,
   "metadata": {},
   "outputs": [
    {
     "name": "stdout",
     "output_type": "stream",
     "text": [
      "Number of features = 5\n",
      "fold 0\n",
      "Training until validation scores don't improve for 1000 rounds.\n",
      "[1000]\ttraining's binary_logloss: 0.0404424\tvalid_1's binary_logloss: 0.042275\n",
      "Early stopping, best iteration is:\n",
      "[135]\ttraining's binary_logloss: 0.0404424\tvalid_1's binary_logloss: 0.042275\n",
      "fold 1\n",
      "Training until validation scores don't improve for 1000 rounds.\n",
      "[1000]\ttraining's binary_logloss: 0.0409146\tvalid_1's binary_logloss: 0.0400903\n",
      "Early stopping, best iteration is:\n",
      "[125]\ttraining's binary_logloss: 0.0409159\tvalid_1's binary_logloss: 0.0400903\n",
      "fold 2\n",
      "Training until validation scores don't improve for 1000 rounds.\n",
      "[1000]\ttraining's binary_logloss: 0.0407343\tvalid_1's binary_logloss: 0.0409122\n",
      "Early stopping, best iteration is:\n",
      "[125]\ttraining's binary_logloss: 0.0407343\tvalid_1's binary_logloss: 0.0409122\n",
      "fold 3\n",
      "Training until validation scores don't improve for 1000 rounds.\n",
      "[1000]\ttraining's binary_logloss: 0.0406493\tvalid_1's binary_logloss: 0.0412504\n",
      "Early stopping, best iteration is:\n",
      "[124]\ttraining's binary_logloss: 0.0406493\tvalid_1's binary_logloss: 0.0412504\n",
      "fold 4\n",
      "Training until validation scores don't improve for 1000 rounds.\n",
      "[1000]\ttraining's binary_logloss: 0.0406973\tvalid_1's binary_logloss: 0.0410569\n",
      "Early stopping, best iteration is:\n",
      "[133]\ttraining's binary_logloss: 0.0406973\tvalid_1's binary_logloss: 0.0410569\n",
      "Final result: \n",
      "accuracy score: 0.986   recall: 0.696   precision: 0.847   AUC: 0.846  F1: 0.764\n"
     ]
    }
   ],
   "source": [
    "best_params_1 = {**{'objective': 'binary', 'metric': 'binary', 'verbosity': -1, 'n_jobs': -1,\n",
    "                 'boosting_type':'gbdt', 'seed':42, 'feature_fraction_seed':42, 'bagging_seed':42},\n",
    "                 **study.trials_dataframe().sort_values(by='value')['params'].iloc[1,:].to_dict()}\n",
    "\n",
    "\n",
    "for key in ['max_depth','min_child_weight','min_data_in_leaf','min_split_gain','num_leaves','bagging_freq']:\n",
    "    best_params_1[key] = int(best_params_1[key])\n",
    "\n",
    "\n",
    "oof_lgb_best_1 = KFold_lgb(df_e, best_params_1, ['country','new_user','source'])\n"
   ]
  },
  {
   "cell_type": "markdown",
   "metadata": {},
   "source": [
    "## Stacking models sometimes give better results!"
   ]
  },
  {
   "cell_type": "code",
   "execution_count": 83,
   "metadata": {
    "scrolled": true
   },
   "outputs": [
    {
     "data": {
      "text/plain": [
       "0.766606248000853"
      ]
     },
     "execution_count": 83,
     "metadata": {},
     "output_type": "execute_result"
    }
   ],
   "source": [
    "f1_score(df_e['converted'], np.max([oof_lgb_best,oof_lgb_best_1],0))"
   ]
  },
  {
   "cell_type": "code",
   "execution_count": 91,
   "metadata": {},
   "outputs": [
    {
     "data": {
      "text/plain": [
       "0.7678646050982031"
      ]
     },
     "execution_count": 91,
     "metadata": {},
     "output_type": "execute_result"
    }
   ],
   "source": [
    "f1_score(df_e['converted'], np.max([oof_lgb_best,oof_lgb_best_1, *oof_list_e[:2]],0))"
   ]
  },
  {
   "cell_type": "code",
   "execution_count": 123,
   "metadata": {},
   "outputs": [
    {
     "data": {
      "text/plain": [
       "0.767915436032955"
      ]
     },
     "execution_count": 123,
     "metadata": {},
     "output_type": "execute_result"
    }
   ],
   "source": [
    "f1_score(df_e['converted'], np.max([oof_lgb_best,oof_lgb_best_1, *oof_list_e[:2],*oof_list_e_scaled[:2]],0))"
   ]
  },
  {
   "cell_type": "markdown",
   "metadata": {},
   "source": [
    "#### The best stack score that I can get"
   ]
  },
  {
   "cell_type": "code",
   "execution_count": 130,
   "metadata": {},
   "outputs": [
    {
     "data": {
      "text/plain": [
       "0.7680033157185785"
      ]
     },
     "execution_count": 130,
     "metadata": {},
     "output_type": "execute_result"
    }
   ],
   "source": [
    "f1_score(df_e['converted'], np.max([oof_lgb_best,oof_lgb_best_1, *oof_list_e[:2], *oof_list_e_scaled[:2],\n",
    "                                    *[oof_list_ohe[1]], *[oof_list_ohe[4]],],0))\n"
   ]
  },
  {
   "cell_type": "markdown",
   "metadata": {},
   "source": [
    "## The KFold method to do model stacking\n",
    "    It works better for regression problems, not this time\n",
    "    The reason why np.max works better for stacking is because we have unbalanced dataset and this is a classification problem\n",
    "    "
   ]
  },
  {
   "cell_type": "code",
   "execution_count": 132,
   "metadata": {},
   "outputs": [],
   "source": [
    "oof_features = np.column_stack([oof_lgb_best,oof_lgb_best_1, *oof_list_e[:2], *oof_list_e_scaled[:2],\n",
    "                                    *[oof_list_ohe[1]], *[oof_list_ohe[4]]])"
   ]
  },
  {
   "cell_type": "code",
   "execution_count": 101,
   "metadata": {},
   "outputs": [],
   "source": [
    "from sklearn.linear_model import LinearRegression, Ridge"
   ]
  },
  {
   "cell_type": "code",
   "execution_count": 133,
   "metadata": {},
   "outputs": [],
   "source": [
    "def KFold_stacking(oof_features, target, reg, n_splits=5):\n",
    "    # choose a different random_state!\n",
    "    folds = StratifiedKFold(n_splits=n_splits, shuffle=True, random_state=2020)\n",
    "    stacked_oof = np.zeros(len(target))\n",
    "    \n",
    "    for fold_, (trn_idx, val_idx) in enumerate(folds.split(oof_features, target)):    \n",
    "        \n",
    "        x_trn, y_trn = oof_features[trn_idx,:], target[trn_idx]\n",
    "        x_val, y_val = oof_features[val_idx,:], target[val_idx]\n",
    "                \n",
    "        reg.fit(x_trn, y_trn)\n",
    "        \n",
    "        stacked_preds = reg.predict(x_val)\n",
    "        stacked_oof[val_idx] = stacked_preds.round()\n",
    "          \n",
    "    ACC = accuracy_score(target, stacked_oof).round(3)\n",
    "    REC = recall_score(target, stacked_oof).round(3)\n",
    "    PRE = precision_score(target, stacked_oof).round(3)\n",
    "    AUC = roc_auc_score(target, stacked_oof).round(3)\n",
    "    KAP = cohen_kappa_score(target, stacked_oof).round(3)\n",
    "    F1  = f1_score(target, stacked_oof).round(7)\n",
    "    \n",
    "    print(f'{ACC}\\t\\t{REC}\\t{PRE}\\t\\t{AUC}\\t{F1}')\n",
    "    return oof"
   ]
  },
  {
   "cell_type": "code",
   "execution_count": 138,
   "metadata": {},
   "outputs": [
    {
     "name": "stdout",
     "output_type": "stream",
     "text": [
      "Accuracy\tRecall\tPrecision\tAUC\tF1\n",
      "0.986\t\t0.693\t0.848\t\t0.845\t0.7630812\n",
      "0.986\t\t0.694\t0.849\t\t0.845\t0.7633382\n",
      "0.986\t\t0.694\t0.849\t\t0.845\t0.7633382\n",
      "0.986\t\t0.693\t0.849\t\t0.844\t0.7628454\n",
      "0.986\t\t0.7\t0.845\t\t0.848\t0.7658001\n",
      "0.986\t\t0.69\t0.851\t\t0.843\t0.7623119\n"
     ]
    }
   ],
   "source": [
    "print('Accuracy\\tRecall\\tPrecision\\tAUC\\tF1')\n",
    "_ = KFold_stacking(oof_features, df_e['converted'], LinearRegression())\n",
    "_ = KFold_stacking(oof_features[:,:6], df_e['converted'], LinearRegression())\n",
    "_ = KFold_stacking(oof_features[:,:5], df_e['converted'], LinearRegression())\n",
    "_ = KFold_stacking(oof_features[:,:4], df_e['converted'], LinearRegression())\n",
    "_ = KFold_stacking(oof_features[:,:3], df_e['converted'], LinearRegression())\n",
    "_ = KFold_stacking(oof_features[:,:2], df_e['converted'], LinearRegression())\n"
   ]
  },
  {
   "cell_type": "code",
   "execution_count": null,
   "metadata": {},
   "outputs": [],
   "source": []
  },
  {
   "cell_type": "code",
   "execution_count": null,
   "metadata": {},
   "outputs": [],
   "source": []
  },
  {
   "cell_type": "code",
   "execution_count": null,
   "metadata": {},
   "outputs": [],
   "source": []
  },
  {
   "cell_type": "code",
   "execution_count": null,
   "metadata": {},
   "outputs": [],
   "source": []
  }
 ],
 "metadata": {
  "kernelspec": {
   "display_name": "Python 3",
   "language": "python",
   "name": "python3"
  },
  "language_info": {
   "codemirror_mode": {
    "name": "ipython",
    "version": 3
   },
   "file_extension": ".py",
   "mimetype": "text/x-python",
   "name": "python",
   "nbconvert_exporter": "python",
   "pygments_lexer": "ipython3",
   "version": "3.7.2"
  }
 },
 "nbformat": 4,
 "nbformat_minor": 2
}
